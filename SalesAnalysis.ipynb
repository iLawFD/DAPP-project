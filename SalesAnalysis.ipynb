{
 "cells": [
  {
   "cell_type": "code",
   "execution_count": 720,
   "metadata": {},
   "outputs": [],
   "source": [
    "import pandas as pd \n",
    "import numpy as np\n",
    "import seaborn as sns \n",
    "import matplotlib.pyplot as plt"
   ]
  },
  {
   "cell_type": "code",
   "execution_count": 721,
   "metadata": {},
   "outputs": [],
   "source": [
    "df = pd.read_csv(r\"C:\\Users\\ggfor\\Downloads\\Updated_sales.csv\", delimiter= \",\")"
   ]
  },
  {
   "cell_type": "markdown",
   "metadata": {},
   "source": [
    "## For this notebook, i will go through the whole cycle of Data Science with Updated_sales dataset. Where sales or prices are the dependent variable \n",
    "# Here is a break down of the notebook\n",
    "    1- General Data understanding & Cleaning\n",
    "    2- In-depth understanding of Each column & Feature Engineering  \n",
    "    3- Write Data to mysql's Database \n",
    "    4- Prepare Data for machine Learning\n",
    "    5- Linear reg\n",
    "    6- clustring"
   ]
  },
  {
   "cell_type": "markdown",
   "metadata": {},
   "source": [
    "## 1- General Data understanding & Cleaning"
   ]
  },
  {
   "cell_type": "code",
   "execution_count": 722,
   "metadata": {},
   "outputs": [
    {
     "data": {
      "text/html": [
       "<div>\n",
       "<style scoped>\n",
       "    .dataframe tbody tr th:only-of-type {\n",
       "        vertical-align: middle;\n",
       "    }\n",
       "\n",
       "    .dataframe tbody tr th {\n",
       "        vertical-align: top;\n",
       "    }\n",
       "\n",
       "    .dataframe thead th {\n",
       "        text-align: right;\n",
       "    }\n",
       "</style>\n",
       "<table border=\"1\" class=\"dataframe\">\n",
       "  <thead>\n",
       "    <tr style=\"text-align: right;\">\n",
       "      <th></th>\n",
       "      <th>Order ID</th>\n",
       "      <th>Product</th>\n",
       "      <th>Quantity Ordered</th>\n",
       "      <th>Price Each</th>\n",
       "      <th>Order Date</th>\n",
       "      <th>Purchase Address</th>\n",
       "    </tr>\n",
       "  </thead>\n",
       "  <tbody>\n",
       "    <tr>\n",
       "      <th>count</th>\n",
       "      <td>30307</td>\n",
       "      <td>30307</td>\n",
       "      <td>30307</td>\n",
       "      <td>30307</td>\n",
       "      <td>30307</td>\n",
       "      <td>30307</td>\n",
       "    </tr>\n",
       "    <tr>\n",
       "      <th>unique</th>\n",
       "      <td>29019</td>\n",
       "      <td>20</td>\n",
       "      <td>9</td>\n",
       "      <td>24</td>\n",
       "      <td>23316</td>\n",
       "      <td>27854</td>\n",
       "    </tr>\n",
       "    <tr>\n",
       "      <th>top</th>\n",
       "      <td>Order ID</td>\n",
       "      <td>Lightning Charging Cable</td>\n",
       "      <td>1</td>\n",
       "      <td>14.95</td>\n",
       "      <td>Order Date</td>\n",
       "      <td>Purchase Address</td>\n",
       "    </tr>\n",
       "    <tr>\n",
       "      <th>freq</th>\n",
       "      <td>61</td>\n",
       "      <td>3556</td>\n",
       "      <td>27405</td>\n",
       "      <td>3556</td>\n",
       "      <td>61</td>\n",
       "      <td>61</td>\n",
       "    </tr>\n",
       "  </tbody>\n",
       "</table>\n",
       "</div>"
      ],
      "text/plain": [
       "        Order ID                   Product Quantity Ordered Price Each  \\\n",
       "count      30307                     30307            30307      30307   \n",
       "unique     29019                        20                9         24   \n",
       "top     Order ID  Lightning Charging Cable                1      14.95   \n",
       "freq          61                      3556            27405       3556   \n",
       "\n",
       "        Order Date  Purchase Address  \n",
       "count        30307             30307  \n",
       "unique       23316             27854  \n",
       "top     Order Date  Purchase Address  \n",
       "freq            61                61  "
      ]
     },
     "execution_count": 722,
     "metadata": {},
     "output_type": "execute_result"
    }
   ],
   "source": [
    "df.describe()"
   ]
  },
  {
   "cell_type": "code",
   "execution_count": 723,
   "metadata": {},
   "outputs": [
    {
     "name": "stdout",
     "output_type": "stream",
     "text": [
      "<class 'pandas.core.frame.DataFrame'>\n",
      "RangeIndex: 30394 entries, 0 to 30393\n",
      "Data columns (total 6 columns):\n",
      " #   Column            Non-Null Count  Dtype \n",
      "---  ------            --------------  ----- \n",
      " 0   Order ID          30307 non-null  object\n",
      " 1   Product           30307 non-null  object\n",
      " 2   Quantity Ordered  30307 non-null  object\n",
      " 3   Price Each        30307 non-null  object\n",
      " 4   Order Date        30307 non-null  object\n",
      " 5   Purchase Address  30307 non-null  object\n",
      "dtypes: object(6)\n",
      "memory usage: 1.4+ MB\n"
     ]
    }
   ],
   "source": [
    "df.info()"
   ]
  },
  {
   "cell_type": "code",
   "execution_count": 724,
   "metadata": {},
   "outputs": [
    {
     "data": {
      "text/html": [
       "<div>\n",
       "<style scoped>\n",
       "    .dataframe tbody tr th:only-of-type {\n",
       "        vertical-align: middle;\n",
       "    }\n",
       "\n",
       "    .dataframe tbody tr th {\n",
       "        vertical-align: top;\n",
       "    }\n",
       "\n",
       "    .dataframe thead th {\n",
       "        text-align: right;\n",
       "    }\n",
       "</style>\n",
       "<table border=\"1\" class=\"dataframe\">\n",
       "  <thead>\n",
       "    <tr style=\"text-align: right;\">\n",
       "      <th></th>\n",
       "      <th>Order ID</th>\n",
       "      <th>Product</th>\n",
       "      <th>Quantity Ordered</th>\n",
       "      <th>Price Each</th>\n",
       "      <th>Order Date</th>\n",
       "      <th>Purchase Address</th>\n",
       "    </tr>\n",
       "  </thead>\n",
       "  <tbody>\n",
       "    <tr>\n",
       "      <th>0</th>\n",
       "      <td>176558</td>\n",
       "      <td>USB-C Charging Cable</td>\n",
       "      <td>2</td>\n",
       "      <td>11.95</td>\n",
       "      <td>04/19/19 08:46</td>\n",
       "      <td>917 1st St, Dallas, TX 75001</td>\n",
       "    </tr>\n",
       "    <tr>\n",
       "      <th>1</th>\n",
       "      <td>NaN</td>\n",
       "      <td>NaN</td>\n",
       "      <td>NaN</td>\n",
       "      <td>NaN</td>\n",
       "      <td>NaN</td>\n",
       "      <td>NaN</td>\n",
       "    </tr>\n",
       "    <tr>\n",
       "      <th>2</th>\n",
       "      <td>176559</td>\n",
       "      <td>Bose SoundSport Headphones</td>\n",
       "      <td>1</td>\n",
       "      <td>99.99</td>\n",
       "      <td>04/07/19 22:30</td>\n",
       "      <td>682 Chestnut St, Boston, MA 02215</td>\n",
       "    </tr>\n",
       "    <tr>\n",
       "      <th>3</th>\n",
       "      <td>176560</td>\n",
       "      <td>Google Phone</td>\n",
       "      <td>1</td>\n",
       "      <td>600</td>\n",
       "      <td>04/12/19 14:38</td>\n",
       "      <td>669 Spruce St, Los Angeles, CA 90001</td>\n",
       "    </tr>\n",
       "    <tr>\n",
       "      <th>4</th>\n",
       "      <td>176560</td>\n",
       "      <td>Wired Headphones</td>\n",
       "      <td>1</td>\n",
       "      <td>11.99</td>\n",
       "      <td>04/12/19 14:38</td>\n",
       "      <td>669 Spruce St, Los Angeles, CA 90001</td>\n",
       "    </tr>\n",
       "    <tr>\n",
       "      <th>...</th>\n",
       "      <td>...</td>\n",
       "      <td>...</td>\n",
       "      <td>...</td>\n",
       "      <td>...</td>\n",
       "      <td>...</td>\n",
       "      <td>...</td>\n",
       "    </tr>\n",
       "    <tr>\n",
       "      <th>30389</th>\n",
       "      <td>248146</td>\n",
       "      <td>Bose SoundSport Headphones</td>\n",
       "      <td>1</td>\n",
       "      <td>99.99</td>\n",
       "      <td>08/29/19 22:19</td>\n",
       "      <td>868 Hickory St, San Francisco, CA 94016</td>\n",
       "    </tr>\n",
       "    <tr>\n",
       "      <th>30390</th>\n",
       "      <td>248147</td>\n",
       "      <td>AAA Batteries (4-pack)</td>\n",
       "      <td>3</td>\n",
       "      <td>2.99</td>\n",
       "      <td>08/31/19 16:26</td>\n",
       "      <td>206 Lakeview St, Boston, MA 02215</td>\n",
       "    </tr>\n",
       "    <tr>\n",
       "      <th>30391</th>\n",
       "      <td>248148</td>\n",
       "      <td>AA Batteries (4-pack)</td>\n",
       "      <td>1</td>\n",
       "      <td>3.84</td>\n",
       "      <td>08/02/19 07:25</td>\n",
       "      <td>568 13th St, Seattle, WA 98101</td>\n",
       "    </tr>\n",
       "    <tr>\n",
       "      <th>30392</th>\n",
       "      <td>248149</td>\n",
       "      <td>USB-C Charging Cable</td>\n",
       "      <td>1</td>\n",
       "      <td>11.95</td>\n",
       "      <td>08/08/19 12:10</td>\n",
       "      <td>495 Walnut St, San Francisco, CA 94016</td>\n",
       "    </tr>\n",
       "    <tr>\n",
       "      <th>30393</th>\n",
       "      <td>248150</td>\n",
       "      <td>AA Batteries (4-pack)</td>\n",
       "      <td>1</td>\n",
       "      <td>3.84</td>\n",
       "      <td>08/16/19 08:13</td>\n",
       "      <td>738 Park St, Los Angeles, CA 90001</td>\n",
       "    </tr>\n",
       "  </tbody>\n",
       "</table>\n",
       "<p>30394 rows × 6 columns</p>\n",
       "</div>"
      ],
      "text/plain": [
       "      Order ID                     Product Quantity Ordered Price Each  \\\n",
       "0       176558        USB-C Charging Cable                2      11.95   \n",
       "1          NaN                         NaN              NaN        NaN   \n",
       "2       176559  Bose SoundSport Headphones                1      99.99   \n",
       "3       176560                Google Phone                1        600   \n",
       "4       176560            Wired Headphones                1      11.99   \n",
       "...        ...                         ...              ...        ...   \n",
       "30389   248146  Bose SoundSport Headphones                1      99.99   \n",
       "30390   248147      AAA Batteries (4-pack)                3       2.99   \n",
       "30391   248148       AA Batteries (4-pack)                1       3.84   \n",
       "30392   248149        USB-C Charging Cable                1      11.95   \n",
       "30393   248150       AA Batteries (4-pack)                1       3.84   \n",
       "\n",
       "           Order Date                         Purchase Address  \n",
       "0      04/19/19 08:46             917 1st St, Dallas, TX 75001  \n",
       "1                 NaN                                      NaN  \n",
       "2      04/07/19 22:30        682 Chestnut St, Boston, MA 02215  \n",
       "3      04/12/19 14:38     669 Spruce St, Los Angeles, CA 90001  \n",
       "4      04/12/19 14:38     669 Spruce St, Los Angeles, CA 90001  \n",
       "...               ...                                      ...  \n",
       "30389  08/29/19 22:19  868 Hickory St, San Francisco, CA 94016  \n",
       "30390  08/31/19 16:26        206 Lakeview St, Boston, MA 02215  \n",
       "30391  08/02/19 07:25           568 13th St, Seattle, WA 98101  \n",
       "30392  08/08/19 12:10   495 Walnut St, San Francisco, CA 94016  \n",
       "30393  08/16/19 08:13       738 Park St, Los Angeles, CA 90001  \n",
       "\n",
       "[30394 rows x 6 columns]"
      ]
     },
     "execution_count": 724,
     "metadata": {},
     "output_type": "execute_result"
    }
   ],
   "source": [
    "df"
   ]
  },
  {
   "cell_type": "code",
   "execution_count": 725,
   "metadata": {},
   "outputs": [
    {
     "data": {
      "text/html": [
       "<div>\n",
       "<style scoped>\n",
       "    .dataframe tbody tr th:only-of-type {\n",
       "        vertical-align: middle;\n",
       "    }\n",
       "\n",
       "    .dataframe tbody tr th {\n",
       "        vertical-align: top;\n",
       "    }\n",
       "\n",
       "    .dataframe thead th {\n",
       "        text-align: right;\n",
       "    }\n",
       "</style>\n",
       "<table border=\"1\" class=\"dataframe\">\n",
       "  <thead>\n",
       "    <tr style=\"text-align: right;\">\n",
       "      <th></th>\n",
       "      <th>Order ID</th>\n",
       "      <th>Product</th>\n",
       "      <th>Quantity Ordered</th>\n",
       "      <th>Price Each</th>\n",
       "      <th>Order Date</th>\n",
       "      <th>Purchase Address</th>\n",
       "    </tr>\n",
       "  </thead>\n",
       "  <tbody>\n",
       "    <tr>\n",
       "      <th>1</th>\n",
       "      <td>NaN</td>\n",
       "      <td>NaN</td>\n",
       "      <td>NaN</td>\n",
       "      <td>NaN</td>\n",
       "      <td>NaN</td>\n",
       "      <td>NaN</td>\n",
       "    </tr>\n",
       "    <tr>\n",
       "      <th>356</th>\n",
       "      <td>NaN</td>\n",
       "      <td>NaN</td>\n",
       "      <td>NaN</td>\n",
       "      <td>NaN</td>\n",
       "      <td>NaN</td>\n",
       "      <td>NaN</td>\n",
       "    </tr>\n",
       "    <tr>\n",
       "      <th>735</th>\n",
       "      <td>NaN</td>\n",
       "      <td>NaN</td>\n",
       "      <td>NaN</td>\n",
       "      <td>NaN</td>\n",
       "      <td>NaN</td>\n",
       "      <td>NaN</td>\n",
       "    </tr>\n",
       "    <tr>\n",
       "      <th>1433</th>\n",
       "      <td>NaN</td>\n",
       "      <td>NaN</td>\n",
       "      <td>NaN</td>\n",
       "      <td>NaN</td>\n",
       "      <td>NaN</td>\n",
       "      <td>NaN</td>\n",
       "    </tr>\n",
       "    <tr>\n",
       "      <th>1553</th>\n",
       "      <td>NaN</td>\n",
       "      <td>NaN</td>\n",
       "      <td>NaN</td>\n",
       "      <td>NaN</td>\n",
       "      <td>NaN</td>\n",
       "      <td>NaN</td>\n",
       "    </tr>\n",
       "    <tr>\n",
       "      <th>...</th>\n",
       "      <td>...</td>\n",
       "      <td>...</td>\n",
       "      <td>...</td>\n",
       "      <td>...</td>\n",
       "      <td>...</td>\n",
       "      <td>...</td>\n",
       "    </tr>\n",
       "    <tr>\n",
       "      <th>28132</th>\n",
       "      <td>NaN</td>\n",
       "      <td>NaN</td>\n",
       "      <td>NaN</td>\n",
       "      <td>NaN</td>\n",
       "      <td>NaN</td>\n",
       "      <td>NaN</td>\n",
       "    </tr>\n",
       "    <tr>\n",
       "      <th>28879</th>\n",
       "      <td>NaN</td>\n",
       "      <td>NaN</td>\n",
       "      <td>NaN</td>\n",
       "      <td>NaN</td>\n",
       "      <td>NaN</td>\n",
       "      <td>NaN</td>\n",
       "    </tr>\n",
       "    <tr>\n",
       "      <th>29097</th>\n",
       "      <td>NaN</td>\n",
       "      <td>NaN</td>\n",
       "      <td>NaN</td>\n",
       "      <td>NaN</td>\n",
       "      <td>NaN</td>\n",
       "      <td>NaN</td>\n",
       "    </tr>\n",
       "    <tr>\n",
       "      <th>29247</th>\n",
       "      <td>NaN</td>\n",
       "      <td>NaN</td>\n",
       "      <td>NaN</td>\n",
       "      <td>NaN</td>\n",
       "      <td>NaN</td>\n",
       "      <td>NaN</td>\n",
       "    </tr>\n",
       "    <tr>\n",
       "      <th>29257</th>\n",
       "      <td>NaN</td>\n",
       "      <td>NaN</td>\n",
       "      <td>NaN</td>\n",
       "      <td>NaN</td>\n",
       "      <td>NaN</td>\n",
       "      <td>NaN</td>\n",
       "    </tr>\n",
       "  </tbody>\n",
       "</table>\n",
       "<p>87 rows × 6 columns</p>\n",
       "</div>"
      ],
      "text/plain": [
       "      Order ID Product Quantity Ordered Price Each Order Date Purchase Address\n",
       "1          NaN     NaN              NaN        NaN        NaN              NaN\n",
       "356        NaN     NaN              NaN        NaN        NaN              NaN\n",
       "735        NaN     NaN              NaN        NaN        NaN              NaN\n",
       "1433       NaN     NaN              NaN        NaN        NaN              NaN\n",
       "1553       NaN     NaN              NaN        NaN        NaN              NaN\n",
       "...        ...     ...              ...        ...        ...              ...\n",
       "28132      NaN     NaN              NaN        NaN        NaN              NaN\n",
       "28879      NaN     NaN              NaN        NaN        NaN              NaN\n",
       "29097      NaN     NaN              NaN        NaN        NaN              NaN\n",
       "29247      NaN     NaN              NaN        NaN        NaN              NaN\n",
       "29257      NaN     NaN              NaN        NaN        NaN              NaN\n",
       "\n",
       "[87 rows x 6 columns]"
      ]
     },
     "execution_count": 725,
     "metadata": {},
     "output_type": "execute_result"
    }
   ],
   "source": [
    "df[pd.isna(df[\"Order ID\"])]"
   ]
  },
  {
   "cell_type": "code",
   "execution_count": 726,
   "metadata": {},
   "outputs": [
    {
     "data": {
      "text/plain": [
       "Order ID            87\n",
       "Product             87\n",
       "Quantity Ordered    87\n",
       "Price Each          87\n",
       "Order Date          87\n",
       "Purchase Address    87\n",
       "dtype: int64"
      ]
     },
     "execution_count": 726,
     "metadata": {},
     "output_type": "execute_result"
    }
   ],
   "source": [
    "df[pd.isna(df[\"Order ID\"])].isna().sum()"
   ]
  },
  {
   "cell_type": "markdown",
   "metadata": {},
   "source": [
    "### It is clear that at specific rows, all the columns have null values and therfore will not contribute any information. Thus, we must <span style=\"color: red;\"> Remove </span> these rows "
   ]
  },
  {
   "cell_type": "code",
   "execution_count": 727,
   "metadata": {},
   "outputs": [],
   "source": [
    "df= df[~pd.isna(df[\"Order ID\"])]"
   ]
  },
  {
   "cell_type": "code",
   "execution_count": 728,
   "metadata": {},
   "outputs": [
    {
     "data": {
      "text/plain": [
       "False"
      ]
     },
     "execution_count": 728,
     "metadata": {},
     "output_type": "execute_result"
    }
   ],
   "source": [
    "df.isna().any().any()"
   ]
  },
  {
   "cell_type": "code",
   "execution_count": 729,
   "metadata": {},
   "outputs": [
    {
     "name": "stdout",
     "output_type": "stream",
     "text": [
      "<class 'pandas.core.frame.DataFrame'>\n",
      "Index: 30307 entries, 0 to 30393\n",
      "Data columns (total 6 columns):\n",
      " #   Column            Non-Null Count  Dtype \n",
      "---  ------            --------------  ----- \n",
      " 0   Order ID          30307 non-null  object\n",
      " 1   Product           30307 non-null  object\n",
      " 2   Quantity Ordered  30307 non-null  object\n",
      " 3   Price Each        30307 non-null  object\n",
      " 4   Order Date        30307 non-null  object\n",
      " 5   Purchase Address  30307 non-null  object\n",
      "dtypes: object(6)\n",
      "memory usage: 1.6+ MB\n"
     ]
    }
   ],
   "source": [
    "df.info()"
   ]
  },
  {
   "cell_type": "markdown",
   "metadata": {},
   "source": [
    "### For some reason the Quantity and Price Each columns are of type object not int nor float"
   ]
  },
  {
   "cell_type": "code",
   "execution_count": 730,
   "metadata": {},
   "outputs": [],
   "source": [
    "#df[\"Quantity Ordered\"].apply(lambda x : float(x))\n",
    "#df[\"Price Each\"].apply(lambda x : float(x))"
   ]
  },
  {
   "cell_type": "markdown",
   "metadata": {},
   "source": [
    "### This code that tries to convert the columns from object to int results in very weird error"
   ]
  },
  {
   "cell_type": "code",
   "execution_count": 731,
   "metadata": {},
   "outputs": [
    {
     "data": {
      "text/plain": [
       "Quantity Ordered\n",
       "1                   27405\n",
       "2                    2184\n",
       "3                     472\n",
       "4                     128\n",
       "Quantity Ordered       61\n",
       "5                      40\n",
       "6                      11\n",
       "7                       5\n",
       "8                       1\n",
       "Name: count, dtype: int64"
      ]
     },
     "execution_count": 731,
     "metadata": {},
     "output_type": "execute_result"
    }
   ],
   "source": [
    "df[\"Quantity Ordered\"].value_counts()"
   ]
  },
  {
   "cell_type": "code",
   "execution_count": 732,
   "metadata": {},
   "outputs": [
    {
     "data": {
      "text/html": [
       "<div>\n",
       "<style scoped>\n",
       "    .dataframe tbody tr th:only-of-type {\n",
       "        vertical-align: middle;\n",
       "    }\n",
       "\n",
       "    .dataframe tbody tr th {\n",
       "        vertical-align: top;\n",
       "    }\n",
       "\n",
       "    .dataframe thead th {\n",
       "        text-align: right;\n",
       "    }\n",
       "</style>\n",
       "<table border=\"1\" class=\"dataframe\">\n",
       "  <thead>\n",
       "    <tr style=\"text-align: right;\">\n",
       "      <th></th>\n",
       "      <th>Order ID</th>\n",
       "      <th>Product</th>\n",
       "      <th>Quantity Ordered</th>\n",
       "      <th>Price Each</th>\n",
       "      <th>Order Date</th>\n",
       "      <th>Purchase Address</th>\n",
       "    </tr>\n",
       "  </thead>\n",
       "  <tbody>\n",
       "    <tr>\n",
       "      <th>519</th>\n",
       "      <td>Order ID</td>\n",
       "      <td>Product</td>\n",
       "      <td>Quantity Ordered</td>\n",
       "      <td>Price Each</td>\n",
       "      <td>Order Date</td>\n",
       "      <td>Purchase Address</td>\n",
       "    </tr>\n",
       "    <tr>\n",
       "      <th>1149</th>\n",
       "      <td>Order ID</td>\n",
       "      <td>Product</td>\n",
       "      <td>Quantity Ordered</td>\n",
       "      <td>Price Each</td>\n",
       "      <td>Order Date</td>\n",
       "      <td>Purchase Address</td>\n",
       "    </tr>\n",
       "    <tr>\n",
       "      <th>1155</th>\n",
       "      <td>Order ID</td>\n",
       "      <td>Product</td>\n",
       "      <td>Quantity Ordered</td>\n",
       "      <td>Price Each</td>\n",
       "      <td>Order Date</td>\n",
       "      <td>Purchase Address</td>\n",
       "    </tr>\n",
       "    <tr>\n",
       "      <th>2878</th>\n",
       "      <td>Order ID</td>\n",
       "      <td>Product</td>\n",
       "      <td>Quantity Ordered</td>\n",
       "      <td>Price Each</td>\n",
       "      <td>Order Date</td>\n",
       "      <td>Purchase Address</td>\n",
       "    </tr>\n",
       "    <tr>\n",
       "      <th>2893</th>\n",
       "      <td>Order ID</td>\n",
       "      <td>Product</td>\n",
       "      <td>Quantity Ordered</td>\n",
       "      <td>Price Each</td>\n",
       "      <td>Order Date</td>\n",
       "      <td>Purchase Address</td>\n",
       "    </tr>\n",
       "    <tr>\n",
       "      <th>...</th>\n",
       "      <td>...</td>\n",
       "      <td>...</td>\n",
       "      <td>...</td>\n",
       "      <td>...</td>\n",
       "      <td>...</td>\n",
       "      <td>...</td>\n",
       "    </tr>\n",
       "    <tr>\n",
       "      <th>27988</th>\n",
       "      <td>Order ID</td>\n",
       "      <td>Product</td>\n",
       "      <td>Quantity Ordered</td>\n",
       "      <td>Price Each</td>\n",
       "      <td>Order Date</td>\n",
       "      <td>Purchase Address</td>\n",
       "    </tr>\n",
       "    <tr>\n",
       "      <th>28600</th>\n",
       "      <td>Order ID</td>\n",
       "      <td>Product</td>\n",
       "      <td>Quantity Ordered</td>\n",
       "      <td>Price Each</td>\n",
       "      <td>Order Date</td>\n",
       "      <td>Purchase Address</td>\n",
       "    </tr>\n",
       "    <tr>\n",
       "      <th>28721</th>\n",
       "      <td>Order ID</td>\n",
       "      <td>Product</td>\n",
       "      <td>Quantity Ordered</td>\n",
       "      <td>Price Each</td>\n",
       "      <td>Order Date</td>\n",
       "      <td>Purchase Address</td>\n",
       "    </tr>\n",
       "    <tr>\n",
       "      <th>29088</th>\n",
       "      <td>Order ID</td>\n",
       "      <td>Product</td>\n",
       "      <td>Quantity Ordered</td>\n",
       "      <td>Price Each</td>\n",
       "      <td>Order Date</td>\n",
       "      <td>Purchase Address</td>\n",
       "    </tr>\n",
       "    <tr>\n",
       "      <th>29387</th>\n",
       "      <td>Order ID</td>\n",
       "      <td>Product</td>\n",
       "      <td>Quantity Ordered</td>\n",
       "      <td>Price Each</td>\n",
       "      <td>Order Date</td>\n",
       "      <td>Purchase Address</td>\n",
       "    </tr>\n",
       "  </tbody>\n",
       "</table>\n",
       "<p>61 rows × 6 columns</p>\n",
       "</div>"
      ],
      "text/plain": [
       "       Order ID  Product  Quantity Ordered  Price Each  Order Date  \\\n",
       "519    Order ID  Product  Quantity Ordered  Price Each  Order Date   \n",
       "1149   Order ID  Product  Quantity Ordered  Price Each  Order Date   \n",
       "1155   Order ID  Product  Quantity Ordered  Price Each  Order Date   \n",
       "2878   Order ID  Product  Quantity Ordered  Price Each  Order Date   \n",
       "2893   Order ID  Product  Quantity Ordered  Price Each  Order Date   \n",
       "...         ...      ...               ...         ...         ...   \n",
       "27988  Order ID  Product  Quantity Ordered  Price Each  Order Date   \n",
       "28600  Order ID  Product  Quantity Ordered  Price Each  Order Date   \n",
       "28721  Order ID  Product  Quantity Ordered  Price Each  Order Date   \n",
       "29088  Order ID  Product  Quantity Ordered  Price Each  Order Date   \n",
       "29387  Order ID  Product  Quantity Ordered  Price Each  Order Date   \n",
       "\n",
       "       Purchase Address  \n",
       "519    Purchase Address  \n",
       "1149   Purchase Address  \n",
       "1155   Purchase Address  \n",
       "2878   Purchase Address  \n",
       "2893   Purchase Address  \n",
       "...                 ...  \n",
       "27988  Purchase Address  \n",
       "28600  Purchase Address  \n",
       "28721  Purchase Address  \n",
       "29088  Purchase Address  \n",
       "29387  Purchase Address  \n",
       "\n",
       "[61 rows x 6 columns]"
      ]
     },
     "execution_count": 732,
     "metadata": {},
     "output_type": "execute_result"
    }
   ],
   "source": [
    "df[df[\"Quantity Ordered\"]== \"Quantity Ordered\"]"
   ]
  },
  {
   "cell_type": "markdown",
   "metadata": {},
   "source": [
    "### After invastigation, it turns out that some rows have all their values with their corrsponding columns names, which is weird. This also makes these rows have no contribution to our analysis. Therefore, we have no choice but to  <span style=\"color: red;\"> Remove </span> them "
   ]
  },
  {
   "cell_type": "code",
   "execution_count": 733,
   "metadata": {},
   "outputs": [],
   "source": [
    "df= df[df[\"Quantity Ordered\"]!= \"Quantity Ordered\"]"
   ]
  },
  {
   "cell_type": "code",
   "execution_count": 734,
   "metadata": {},
   "outputs": [],
   "source": [
    "df[\"Quantity Ordered\"] = df[\"Quantity Ordered\"].astype(int)"
   ]
  },
  {
   "cell_type": "code",
   "execution_count": 735,
   "metadata": {},
   "outputs": [],
   "source": [
    "df[\"Price Each\"] = df[\"Price Each\"].astype(float)"
   ]
  },
  {
   "cell_type": "markdown",
   "metadata": {},
   "source": [
    "### I would try to convert date to Date object but it has a time at the end of the date which is uncommon"
   ]
  },
  {
   "cell_type": "markdown",
   "metadata": {},
   "source": [
    "#### The column Price Each is clearly the price of the indiviual Product but not the price of the whole purchase ( which is what we are intreseted in). The price of the whole purchase = Price Each x Quantity Ordered ( Note that the total price can be same as price each when Quantity is 1 )"
   ]
  },
  {
   "cell_type": "code",
   "execution_count": 736,
   "metadata": {},
   "outputs": [],
   "source": [
    "df[\"Price\"] = df[\"Quantity Ordered\"] *df[\"Price Each\"]"
   ]
  },
  {
   "cell_type": "code",
   "execution_count": 737,
   "metadata": {},
   "outputs": [
    {
     "data": {
      "text/html": [
       "<div>\n",
       "<style scoped>\n",
       "    .dataframe tbody tr th:only-of-type {\n",
       "        vertical-align: middle;\n",
       "    }\n",
       "\n",
       "    .dataframe tbody tr th {\n",
       "        vertical-align: top;\n",
       "    }\n",
       "\n",
       "    .dataframe thead th {\n",
       "        text-align: right;\n",
       "    }\n",
       "</style>\n",
       "<table border=\"1\" class=\"dataframe\">\n",
       "  <thead>\n",
       "    <tr style=\"text-align: right;\">\n",
       "      <th></th>\n",
       "      <th>Order ID</th>\n",
       "      <th>Product</th>\n",
       "      <th>Quantity Ordered</th>\n",
       "      <th>Price Each</th>\n",
       "      <th>Order Date</th>\n",
       "      <th>Purchase Address</th>\n",
       "      <th>Price</th>\n",
       "    </tr>\n",
       "  </thead>\n",
       "  <tbody>\n",
       "    <tr>\n",
       "      <th>0</th>\n",
       "      <td>176558</td>\n",
       "      <td>USB-C Charging Cable</td>\n",
       "      <td>2</td>\n",
       "      <td>11.95</td>\n",
       "      <td>04/19/19 08:46</td>\n",
       "      <td>917 1st St, Dallas, TX 75001</td>\n",
       "      <td>23.90</td>\n",
       "    </tr>\n",
       "    <tr>\n",
       "      <th>2</th>\n",
       "      <td>176559</td>\n",
       "      <td>Bose SoundSport Headphones</td>\n",
       "      <td>1</td>\n",
       "      <td>99.99</td>\n",
       "      <td>04/07/19 22:30</td>\n",
       "      <td>682 Chestnut St, Boston, MA 02215</td>\n",
       "      <td>99.99</td>\n",
       "    </tr>\n",
       "    <tr>\n",
       "      <th>3</th>\n",
       "      <td>176560</td>\n",
       "      <td>Google Phone</td>\n",
       "      <td>1</td>\n",
       "      <td>600.00</td>\n",
       "      <td>04/12/19 14:38</td>\n",
       "      <td>669 Spruce St, Los Angeles, CA 90001</td>\n",
       "      <td>600.00</td>\n",
       "    </tr>\n",
       "    <tr>\n",
       "      <th>4</th>\n",
       "      <td>176560</td>\n",
       "      <td>Wired Headphones</td>\n",
       "      <td>1</td>\n",
       "      <td>11.99</td>\n",
       "      <td>04/12/19 14:38</td>\n",
       "      <td>669 Spruce St, Los Angeles, CA 90001</td>\n",
       "      <td>11.99</td>\n",
       "    </tr>\n",
       "    <tr>\n",
       "      <th>5</th>\n",
       "      <td>176561</td>\n",
       "      <td>Wired Headphones</td>\n",
       "      <td>1</td>\n",
       "      <td>11.99</td>\n",
       "      <td>04/30/19 09:27</td>\n",
       "      <td>333 8th St, Los Angeles, CA 90001</td>\n",
       "      <td>11.99</td>\n",
       "    </tr>\n",
       "    <tr>\n",
       "      <th>...</th>\n",
       "      <td>...</td>\n",
       "      <td>...</td>\n",
       "      <td>...</td>\n",
       "      <td>...</td>\n",
       "      <td>...</td>\n",
       "      <td>...</td>\n",
       "      <td>...</td>\n",
       "    </tr>\n",
       "    <tr>\n",
       "      <th>30389</th>\n",
       "      <td>248146</td>\n",
       "      <td>Bose SoundSport Headphones</td>\n",
       "      <td>1</td>\n",
       "      <td>99.99</td>\n",
       "      <td>08/29/19 22:19</td>\n",
       "      <td>868 Hickory St, San Francisco, CA 94016</td>\n",
       "      <td>99.99</td>\n",
       "    </tr>\n",
       "    <tr>\n",
       "      <th>30390</th>\n",
       "      <td>248147</td>\n",
       "      <td>AAA Batteries (4-pack)</td>\n",
       "      <td>3</td>\n",
       "      <td>2.99</td>\n",
       "      <td>08/31/19 16:26</td>\n",
       "      <td>206 Lakeview St, Boston, MA 02215</td>\n",
       "      <td>8.97</td>\n",
       "    </tr>\n",
       "    <tr>\n",
       "      <th>30391</th>\n",
       "      <td>248148</td>\n",
       "      <td>AA Batteries (4-pack)</td>\n",
       "      <td>1</td>\n",
       "      <td>3.84</td>\n",
       "      <td>08/02/19 07:25</td>\n",
       "      <td>568 13th St, Seattle, WA 98101</td>\n",
       "      <td>3.84</td>\n",
       "    </tr>\n",
       "    <tr>\n",
       "      <th>30392</th>\n",
       "      <td>248149</td>\n",
       "      <td>USB-C Charging Cable</td>\n",
       "      <td>1</td>\n",
       "      <td>11.95</td>\n",
       "      <td>08/08/19 12:10</td>\n",
       "      <td>495 Walnut St, San Francisco, CA 94016</td>\n",
       "      <td>11.95</td>\n",
       "    </tr>\n",
       "    <tr>\n",
       "      <th>30393</th>\n",
       "      <td>248150</td>\n",
       "      <td>AA Batteries (4-pack)</td>\n",
       "      <td>1</td>\n",
       "      <td>3.84</td>\n",
       "      <td>08/16/19 08:13</td>\n",
       "      <td>738 Park St, Los Angeles, CA 90001</td>\n",
       "      <td>3.84</td>\n",
       "    </tr>\n",
       "  </tbody>\n",
       "</table>\n",
       "<p>30246 rows × 7 columns</p>\n",
       "</div>"
      ],
      "text/plain": [
       "      Order ID                     Product  Quantity Ordered  Price Each  \\\n",
       "0       176558        USB-C Charging Cable                 2       11.95   \n",
       "2       176559  Bose SoundSport Headphones                 1       99.99   \n",
       "3       176560                Google Phone                 1      600.00   \n",
       "4       176560            Wired Headphones                 1       11.99   \n",
       "5       176561            Wired Headphones                 1       11.99   \n",
       "...        ...                         ...               ...         ...   \n",
       "30389   248146  Bose SoundSport Headphones                 1       99.99   \n",
       "30390   248147      AAA Batteries (4-pack)                 3        2.99   \n",
       "30391   248148       AA Batteries (4-pack)                 1        3.84   \n",
       "30392   248149        USB-C Charging Cable                 1       11.95   \n",
       "30393   248150       AA Batteries (4-pack)                 1        3.84   \n",
       "\n",
       "           Order Date                         Purchase Address   Price  \n",
       "0      04/19/19 08:46             917 1st St, Dallas, TX 75001   23.90  \n",
       "2      04/07/19 22:30        682 Chestnut St, Boston, MA 02215   99.99  \n",
       "3      04/12/19 14:38     669 Spruce St, Los Angeles, CA 90001  600.00  \n",
       "4      04/12/19 14:38     669 Spruce St, Los Angeles, CA 90001   11.99  \n",
       "5      04/30/19 09:27        333 8th St, Los Angeles, CA 90001   11.99  \n",
       "...               ...                                      ...     ...  \n",
       "30389  08/29/19 22:19  868 Hickory St, San Francisco, CA 94016   99.99  \n",
       "30390  08/31/19 16:26        206 Lakeview St, Boston, MA 02215    8.97  \n",
       "30391  08/02/19 07:25           568 13th St, Seattle, WA 98101    3.84  \n",
       "30392  08/08/19 12:10   495 Walnut St, San Francisco, CA 94016   11.95  \n",
       "30393  08/16/19 08:13       738 Park St, Los Angeles, CA 90001    3.84  \n",
       "\n",
       "[30246 rows x 7 columns]"
      ]
     },
     "execution_count": 737,
     "metadata": {},
     "output_type": "execute_result"
    }
   ],
   "source": [
    "df"
   ]
  },
  {
   "cell_type": "code",
   "execution_count": 738,
   "metadata": {},
   "outputs": [
    {
     "data": {
      "text/plain": [
       "0              USB-C Charging Cable\n",
       "2        Bose SoundSport Headphones\n",
       "3                      Google Phone\n",
       "4                  Wired Headphones\n",
       "5                  Wired Headphones\n",
       "                    ...            \n",
       "30389    Bose SoundSport Headphones\n",
       "30390        AAA Batteries (4-pack)\n",
       "30391         AA Batteries (4-pack)\n",
       "30392          USB-C Charging Cable\n",
       "30393         AA Batteries (4-pack)\n",
       "Name: Product, Length: 30246, dtype: object"
      ]
     },
     "execution_count": 738,
     "metadata": {},
     "output_type": "execute_result"
    }
   ],
   "source": [
    "df[\"Product\"]"
   ]
  },
  {
   "cell_type": "code",
   "execution_count": 739,
   "metadata": {},
   "outputs": [
    {
     "data": {
      "text/plain": [
       "0              USB-C Charging Cable\n",
       "2        Bose SoundSport Headphones\n",
       "3                      Google Phone\n",
       "4                  Wired Headphones\n",
       "5                  Wired Headphones\n",
       "                    ...            \n",
       "30389    Bose SoundSport Headphones\n",
       "30390        AAA Batteries (4-pack)\n",
       "30391         AA Batteries (4-pack)\n",
       "30392          USB-C Charging Cable\n",
       "30393         AA Batteries (4-pack)\n",
       "Name: Product, Length: 30246, dtype: object"
      ]
     },
     "execution_count": 739,
     "metadata": {},
     "output_type": "execute_result"
    }
   ],
   "source": [
    "df[\"Product\"]"
   ]
  },
  {
   "cell_type": "markdown",
   "metadata": {},
   "source": [
    "## 2- Indepth understanding of Each column"
   ]
  },
  {
   "cell_type": "code",
   "execution_count": null,
   "metadata": {},
   "outputs": [],
   "source": []
  },
  {
   "cell_type": "markdown",
   "metadata": {},
   "source": [
    "### ID Column"
   ]
  },
  {
   "cell_type": "code",
   "execution_count": 740,
   "metadata": {},
   "outputs": [],
   "source": [
    "df = df.drop(\"Order ID\", axis =1)"
   ]
  },
  {
   "cell_type": "code",
   "execution_count": 741,
   "metadata": {},
   "outputs": [
    {
     "data": {
      "text/html": [
       "<div>\n",
       "<style scoped>\n",
       "    .dataframe tbody tr th:only-of-type {\n",
       "        vertical-align: middle;\n",
       "    }\n",
       "\n",
       "    .dataframe tbody tr th {\n",
       "        vertical-align: top;\n",
       "    }\n",
       "\n",
       "    .dataframe thead th {\n",
       "        text-align: right;\n",
       "    }\n",
       "</style>\n",
       "<table border=\"1\" class=\"dataframe\">\n",
       "  <thead>\n",
       "    <tr style=\"text-align: right;\">\n",
       "      <th></th>\n",
       "      <th>Product</th>\n",
       "      <th>Quantity Ordered</th>\n",
       "      <th>Price Each</th>\n",
       "      <th>Order Date</th>\n",
       "      <th>Purchase Address</th>\n",
       "      <th>Price</th>\n",
       "    </tr>\n",
       "  </thead>\n",
       "  <tbody>\n",
       "    <tr>\n",
       "      <th>0</th>\n",
       "      <td>USB-C Charging Cable</td>\n",
       "      <td>2</td>\n",
       "      <td>11.95</td>\n",
       "      <td>04/19/19 08:46</td>\n",
       "      <td>917 1st St, Dallas, TX 75001</td>\n",
       "      <td>23.90</td>\n",
       "    </tr>\n",
       "    <tr>\n",
       "      <th>2</th>\n",
       "      <td>Bose SoundSport Headphones</td>\n",
       "      <td>1</td>\n",
       "      <td>99.99</td>\n",
       "      <td>04/07/19 22:30</td>\n",
       "      <td>682 Chestnut St, Boston, MA 02215</td>\n",
       "      <td>99.99</td>\n",
       "    </tr>\n",
       "    <tr>\n",
       "      <th>3</th>\n",
       "      <td>Google Phone</td>\n",
       "      <td>1</td>\n",
       "      <td>600.00</td>\n",
       "      <td>04/12/19 14:38</td>\n",
       "      <td>669 Spruce St, Los Angeles, CA 90001</td>\n",
       "      <td>600.00</td>\n",
       "    </tr>\n",
       "    <tr>\n",
       "      <th>4</th>\n",
       "      <td>Wired Headphones</td>\n",
       "      <td>1</td>\n",
       "      <td>11.99</td>\n",
       "      <td>04/12/19 14:38</td>\n",
       "      <td>669 Spruce St, Los Angeles, CA 90001</td>\n",
       "      <td>11.99</td>\n",
       "    </tr>\n",
       "    <tr>\n",
       "      <th>5</th>\n",
       "      <td>Wired Headphones</td>\n",
       "      <td>1</td>\n",
       "      <td>11.99</td>\n",
       "      <td>04/30/19 09:27</td>\n",
       "      <td>333 8th St, Los Angeles, CA 90001</td>\n",
       "      <td>11.99</td>\n",
       "    </tr>\n",
       "    <tr>\n",
       "      <th>...</th>\n",
       "      <td>...</td>\n",
       "      <td>...</td>\n",
       "      <td>...</td>\n",
       "      <td>...</td>\n",
       "      <td>...</td>\n",
       "      <td>...</td>\n",
       "    </tr>\n",
       "    <tr>\n",
       "      <th>30389</th>\n",
       "      <td>Bose SoundSport Headphones</td>\n",
       "      <td>1</td>\n",
       "      <td>99.99</td>\n",
       "      <td>08/29/19 22:19</td>\n",
       "      <td>868 Hickory St, San Francisco, CA 94016</td>\n",
       "      <td>99.99</td>\n",
       "    </tr>\n",
       "    <tr>\n",
       "      <th>30390</th>\n",
       "      <td>AAA Batteries (4-pack)</td>\n",
       "      <td>3</td>\n",
       "      <td>2.99</td>\n",
       "      <td>08/31/19 16:26</td>\n",
       "      <td>206 Lakeview St, Boston, MA 02215</td>\n",
       "      <td>8.97</td>\n",
       "    </tr>\n",
       "    <tr>\n",
       "      <th>30391</th>\n",
       "      <td>AA Batteries (4-pack)</td>\n",
       "      <td>1</td>\n",
       "      <td>3.84</td>\n",
       "      <td>08/02/19 07:25</td>\n",
       "      <td>568 13th St, Seattle, WA 98101</td>\n",
       "      <td>3.84</td>\n",
       "    </tr>\n",
       "    <tr>\n",
       "      <th>30392</th>\n",
       "      <td>USB-C Charging Cable</td>\n",
       "      <td>1</td>\n",
       "      <td>11.95</td>\n",
       "      <td>08/08/19 12:10</td>\n",
       "      <td>495 Walnut St, San Francisco, CA 94016</td>\n",
       "      <td>11.95</td>\n",
       "    </tr>\n",
       "    <tr>\n",
       "      <th>30393</th>\n",
       "      <td>AA Batteries (4-pack)</td>\n",
       "      <td>1</td>\n",
       "      <td>3.84</td>\n",
       "      <td>08/16/19 08:13</td>\n",
       "      <td>738 Park St, Los Angeles, CA 90001</td>\n",
       "      <td>3.84</td>\n",
       "    </tr>\n",
       "  </tbody>\n",
       "</table>\n",
       "<p>30246 rows × 6 columns</p>\n",
       "</div>"
      ],
      "text/plain": [
       "                          Product  Quantity Ordered  Price Each  \\\n",
       "0            USB-C Charging Cable                 2       11.95   \n",
       "2      Bose SoundSport Headphones                 1       99.99   \n",
       "3                    Google Phone                 1      600.00   \n",
       "4                Wired Headphones                 1       11.99   \n",
       "5                Wired Headphones                 1       11.99   \n",
       "...                           ...               ...         ...   \n",
       "30389  Bose SoundSport Headphones                 1       99.99   \n",
       "30390      AAA Batteries (4-pack)                 3        2.99   \n",
       "30391       AA Batteries (4-pack)                 1        3.84   \n",
       "30392        USB-C Charging Cable                 1       11.95   \n",
       "30393       AA Batteries (4-pack)                 1        3.84   \n",
       "\n",
       "           Order Date                         Purchase Address   Price  \n",
       "0      04/19/19 08:46             917 1st St, Dallas, TX 75001   23.90  \n",
       "2      04/07/19 22:30        682 Chestnut St, Boston, MA 02215   99.99  \n",
       "3      04/12/19 14:38     669 Spruce St, Los Angeles, CA 90001  600.00  \n",
       "4      04/12/19 14:38     669 Spruce St, Los Angeles, CA 90001   11.99  \n",
       "5      04/30/19 09:27        333 8th St, Los Angeles, CA 90001   11.99  \n",
       "...               ...                                      ...     ...  \n",
       "30389  08/29/19 22:19  868 Hickory St, San Francisco, CA 94016   99.99  \n",
       "30390  08/31/19 16:26        206 Lakeview St, Boston, MA 02215    8.97  \n",
       "30391  08/02/19 07:25           568 13th St, Seattle, WA 98101    3.84  \n",
       "30392  08/08/19 12:10   495 Walnut St, San Francisco, CA 94016   11.95  \n",
       "30393  08/16/19 08:13       738 Park St, Los Angeles, CA 90001    3.84  \n",
       "\n",
       "[30246 rows x 6 columns]"
      ]
     },
     "execution_count": 741,
     "metadata": {},
     "output_type": "execute_result"
    }
   ],
   "source": [
    "df"
   ]
  },
  {
   "cell_type": "markdown",
   "metadata": {},
   "source": [
    "### This column will not provide any information about the price and it will not help in visulasation. Therefore, it needs to be <span style=\"color: red;\"> Removed </span>"
   ]
  },
  {
   "cell_type": "code",
   "execution_count": null,
   "metadata": {},
   "outputs": [],
   "source": []
  },
  {
   "cell_type": "markdown",
   "metadata": {},
   "source": [
    "### 1- Product column analysis"
   ]
  },
  {
   "cell_type": "code",
   "execution_count": 742,
   "metadata": {},
   "outputs": [
    {
     "data": {
      "text/plain": [
       "\" def categorize_product(product):\\n    if 'Cable' in product or 'Batteries' in product:\\n        return 'Accessories'\\n    elif 'Headphones' in product:\\n        return 'Headphones'\\n    elif 'Phone' in product:\\n        return 'Phones'\\n    elif 'Monitor' in product or 'TV' in product:\\n        return 'Displays'\\n    elif 'Laptop' in product:\\n        return 'Laptops'\\n    elif 'Washer' in product or 'Dryer' in product:\\n        return 'Home Appliances'\\n    else:\\n        return 'Other'\\n\\n#df['Product Category'] = df['Product'].apply(categorize_product) \""
      ]
     },
     "execution_count": 742,
     "metadata": {},
     "output_type": "execute_result"
    }
   ],
   "source": [
    "\"\"\" def categorize_product(product):\n",
    "    if 'Cable' in product or 'Batteries' in product:\n",
    "        return 'Accessories'\n",
    "    elif 'Headphones' in product:\n",
    "        return 'Headphones'\n",
    "    elif 'Phone' in product:\n",
    "        return 'Phones'\n",
    "    elif 'Monitor' in product or 'TV' in product:\n",
    "        return 'Displays'\n",
    "    elif 'Laptop' in product:\n",
    "        return 'Laptops'\n",
    "    elif 'Washer' in product or 'Dryer' in product:\n",
    "        return 'Home Appliances'\n",
    "    else:\n",
    "        return 'Other'\n",
    "\n",
    "#df['Product Category'] = df['Product'].apply(categorize_product) \"\"\""
   ]
  },
  {
   "cell_type": "markdown",
   "metadata": {},
   "source": []
  },
  {
   "cell_type": "code",
   "execution_count": 743,
   "metadata": {},
   "outputs": [
    {
     "data": {
      "text/plain": [
       "Product\n",
       "Lightning Charging Cable      3556\n",
       "USB-C Charging Cable          3423\n",
       "AA Batteries (4-pack)         3419\n",
       "AAA Batteries (4-pack)        3329\n",
       "Wired Headphones              3082\n",
       "Apple Airpods Headphones      2515\n",
       "Bose SoundSport Headphones    2151\n",
       "27in FHD Monitor              1220\n",
       "iPhone                        1131\n",
       "34in Ultrawide Monitor        1031\n",
       "27in 4K Gaming Monitor        1000\n",
       "Google Phone                   939\n",
       "Flatscreen TV                  789\n",
       "Macbook Pro Laptop             752\n",
       "ThinkPad Laptop                667\n",
       "20in Monitor                   649\n",
       "Vareebadd Phone                361\n",
       "LG Dryer                       123\n",
       "LG Washing Machine             109\n",
       "Name: count, dtype: int64"
      ]
     },
     "execution_count": 743,
     "metadata": {},
     "output_type": "execute_result"
    }
   ],
   "source": [
    "df[\"Product\"].value_counts()"
   ]
  },
  {
   "cell_type": "code",
   "execution_count": 744,
   "metadata": {},
   "outputs": [
    {
     "data": {
      "image/png": "[encoded data removed]",
      "text/plain": [
       "<Figure size 640x480 with 1 Axes>"
      ]
     },
     "metadata": {},
     "output_type": "display_data"
    }
   ],
   "source": [
    "sns.countplot(data= df, x= \"Product\")\n",
    "plt.xticks(rotation=75)\n",
    "plt.show()"
   ]
  },
  {
   "cell_type": "markdown",
   "metadata": {},
   "source": [
    "### <span style=\"color: green;\"> Insight </span> : Accessories like charging cables and batteries are in high demand"
   ]
  },
  {
   "cell_type": "code",
   "execution_count": 745,
   "metadata": {},
   "outputs": [
    {
     "data": {
      "image/png": "[encoded data removed]",
      "text/plain": [
       "<Figure size 1400x800 with 1 Axes>"
      ]
     },
     "metadata": {},
     "output_type": "display_data"
    }
   ],
   "source": [
    "plt.figure(figsize=(14, 8))\n",
    "\n",
    "# Plot the count of products ordered with hue based on quantity ordered\n",
    "sns.countplot(data=df, x=\"Product\", hue=\"Quantity Ordered\")\n",
    "\n",
    "# Rotate x-axis labels for better readability\n",
    "plt.xticks(rotation=45, ha='right')\n",
    "\n",
    "# Add titles and labels for clarity\n",
    "plt.title('Count of Products Ordered by Quantity')\n",
    "plt.xlabel('Product')\n",
    "plt.ylabel('Count')\n",
    "\n",
    "# Display the plot\n",
    "plt.show()"
   ]
  },
  {
   "cell_type": "markdown",
   "metadata": {},
   "source": [
    "### <span style=\"color: green;\"> Insight </span> : USB-C Charging Cable , Lightning Charging Cable and Battries are frequently ordered in higher quantities\n",
    "### <span style=\"color: yellow;\"> Suggestion </span> : Ensure high inventory levels for these items to meet demand and avoid stockouts"
   ]
  },
  {
   "cell_type": "code",
   "execution_count": null,
   "metadata": {},
   "outputs": [],
   "source": []
  },
  {
   "cell_type": "markdown",
   "metadata": {},
   "source": []
  },
  {
   "cell_type": "markdown",
   "metadata": {},
   "source": []
  },
  {
   "cell_type": "code",
   "execution_count": 746,
   "metadata": {},
   "outputs": [
    {
     "data": {
      "text/plain": [
       "0              USB-C Charging Cable\n",
       "2        Bose SoundSport Headphones\n",
       "3                      Google Phone\n",
       "4                  Wired Headphones\n",
       "5                  Wired Headphones\n",
       "                    ...            \n",
       "30389    Bose SoundSport Headphones\n",
       "30390        AAA Batteries (4-pack)\n",
       "30391         AA Batteries (4-pack)\n",
       "30392          USB-C Charging Cable\n",
       "30393         AA Batteries (4-pack)\n",
       "Name: Product, Length: 30246, dtype: object"
      ]
     },
     "execution_count": 746,
     "metadata": {},
     "output_type": "execute_result"
    }
   ],
   "source": [
    "df[\"Product\"]"
   ]
  },
  {
   "cell_type": "code",
   "execution_count": 747,
   "metadata": {},
   "outputs": [
    {
     "name": "stdout",
     "output_type": "stream",
     "text": [
      "Top-Selling Products by Quantity Ordered:\n",
      "Product\n",
      "AAA Batteries (4-pack)        4955\n",
      "AA Batteries (4-pack)         4648\n",
      "Lightning Charging Cable      3812\n",
      "USB-C Charging Cable          3732\n",
      "Wired Headphones              3356\n",
      "Apple Airpods Headphones      2535\n",
      "Bose SoundSport Headphones    2168\n",
      "27in FHD Monitor              1229\n",
      "iPhone                        1133\n",
      "34in Ultrawide Monitor        1034\n",
      "Name: Quantity Ordered, dtype: int32\n",
      "\n",
      "Top-Selling Products by Total Price:\n",
      "Product\n",
      "Macbook Pro Laptop            1281800.00\n",
      "iPhone                         793100.00\n",
      "ThinkPad Laptop                666993.33\n",
      "Google Phone                   564600.00\n",
      "34in Ultrawide Monitor         392909.66\n",
      "27in 4K Gaming Monitor         391549.96\n",
      "Apple Airpods Headphones       380250.00\n",
      "Flatscreen TV                  237000.00\n",
      "Bose SoundSport Headphones     216778.32\n",
      "27in FHD Monitor               184337.71\n",
      "Name: Price, dtype: float64\n"
     ]
    }
   ],
   "source": [
    "top_selling_by_quantity = df.groupby('Product')['Quantity Ordered'].sum().sort_values(ascending=False)\n",
    "\n",
    "print(\"Top-Selling Products by Quantity Ordered:\")\n",
    "print(top_selling_by_quantity.head(10))\n",
    "\n",
    "\n",
    "top_selling_by_sales = df.groupby('Product')['Price'].sum().sort_values(ascending=False)\n",
    "\n",
    "print(\"\\nTop-Selling Products by Total Price:\")\n",
    "print(top_selling_by_sales.head(10))"
   ]
  },
  {
   "cell_type": "code",
   "execution_count": null,
   "metadata": {},
   "outputs": [],
   "source": []
  },
  {
   "cell_type": "markdown",
   "metadata": {},
   "source": [
    "### <span style=\"color: green;\"> Insight </span>: Macbook Pro Laptop and iPhone are the highest revenue generators despite their lower quantity ordered, indicating their high price points."
   ]
  },
  {
   "cell_type": "markdown",
   "metadata": {},
   "source": [
    "#### That is it for product column. The only task left for this column is transformation \\ encoding, and i will leave this until the end"
   ]
  },
  {
   "cell_type": "markdown",
   "metadata": {},
   "source": [
    "### 2- \tOrder Date column analysis"
   ]
  },
  {
   "cell_type": "code",
   "execution_count": 748,
   "metadata": {},
   "outputs": [
    {
     "data": {
      "text/plain": [
       "20233    08/13/19 14:12\n",
       "Name: Order Date, dtype: object"
      ]
     },
     "execution_count": 748,
     "metadata": {},
     "output_type": "execute_result"
    }
   ],
   "source": [
    "df[\"Order Date\"].sample()"
   ]
  },
  {
   "cell_type": "markdown",
   "metadata": {},
   "source": [
    "### This column contains (day/motnth/year min:hour). A total of 4 crucial information in one column. Therefore, it would be logical to split the information in seprates column"
   ]
  },
  {
   "cell_type": "code",
   "execution_count": 749,
   "metadata": {},
   "outputs": [],
   "source": [
    "df[\"Month\"]=df[\"Order Date\"].apply(lambda x : str(x).split(\"/\")[0])"
   ]
  },
  {
   "cell_type": "code",
   "execution_count": 750,
   "metadata": {},
   "outputs": [],
   "source": [
    "df[\"Day\"]=df[\"Order Date\"].apply(lambda x : str(x).split(\"/\")[1])"
   ]
  },
  {
   "cell_type": "code",
   "execution_count": 751,
   "metadata": {},
   "outputs": [
    {
     "data": {
      "text/plain": [
       "Order Date\n",
       "19    30246\n",
       "Name: count, dtype: int64"
      ]
     },
     "execution_count": 751,
     "metadata": {},
     "output_type": "execute_result"
    }
   ],
   "source": [
    "df[\"Order Date\"].apply(lambda x : str(x).split(\"/\")[2][:2]).value_counts()"
   ]
  },
  {
   "cell_type": "markdown",
   "metadata": {},
   "source": [
    "### The year turned out to be 2019 across all rows. Therefore, we can safeley  <span style=\"color: Red;\"> Remove </span> it "
   ]
  },
  {
   "cell_type": "code",
   "execution_count": 752,
   "metadata": {},
   "outputs": [],
   "source": [
    "df[\"Time\"] = df[\"Order Date\"].apply(lambda x : str(x).split(\"/\")[2][2:].strip())"
   ]
  },
  {
   "cell_type": "code",
   "execution_count": null,
   "metadata": {},
   "outputs": [],
   "source": []
  },
  {
   "cell_type": "markdown",
   "metadata": {},
   "source": [
    "### Being informed of wether the transacation happened at day or at night can be benfical for our analysis and maybe feature eng for predcting the total price"
   ]
  },
  {
   "cell_type": "code",
   "execution_count": 753,
   "metadata": {},
   "outputs": [],
   "source": [
    "df['AM/PM']= df[\"Time\"].apply(lambda x: \"PM\" if(int(x[:2]) >= 12) else \"AM\")"
   ]
  },
  {
   "cell_type": "markdown",
   "metadata": {},
   "source": [
    "### Now we can safelay <span style=\"color: Red;\"> Remove </span> the Date column"
   ]
  },
  {
   "cell_type": "code",
   "execution_count": 754,
   "metadata": {},
   "outputs": [],
   "source": [
    "df= df.drop(\"Order Date\", axis = 1)"
   ]
  },
  {
   "cell_type": "code",
   "execution_count": 755,
   "metadata": {},
   "outputs": [
    {
     "data": {
      "text/plain": [
       "<Axes: xlabel='Month', ylabel='count'>"
      ]
     },
     "execution_count": 755,
     "metadata": {},
     "output_type": "execute_result"
    },
    {
     "data": {
      "image/png": "[encoded data removed]",
      "text/plain": [
       "<Figure size 640x480 with 1 Axes>"
      ]
     },
     "metadata": {},
     "output_type": "display_data"
    }
   ],
   "source": [
    "sns.countplot(x= \"Month\", data= df)"
   ]
  },
  {
   "cell_type": "markdown",
   "metadata": {},
   "source": [
    "### There only 4 months in this dataset with uneven frequncy"
   ]
  },
  {
   "cell_type": "code",
   "execution_count": 756,
   "metadata": {},
   "outputs": [
    {
     "data": {
      "text/plain": [
       "<Axes: xlabel='AM/PM', ylabel='count'>"
      ]
     },
     "execution_count": 756,
     "metadata": {},
     "output_type": "execute_result"
    },
    {
     "data": {
      "image/png": "[encoded data removed]",
      "text/plain": [
       "<Figure size 640x480 with 1 Axes>"
      ]
     },
     "metadata": {},
     "output_type": "display_data"
    }
   ],
   "source": [
    "sns.countplot(x= \"AM/PM\", data= df)"
   ]
  },
  {
   "cell_type": "markdown",
   "metadata": {},
   "source": [
    "### <span style=\"color: green;\"> Insight </span> : PM purchases are more than double of that of  AM purchases\n",
    "### <span style=\"color: yellow;\"> Suggestion </span> : Schedule promotions, emails, and ads for the afternoon and evening to align with peak purchasing times"
   ]
  },
  {
   "cell_type": "code",
   "execution_count": 757,
   "metadata": {},
   "outputs": [
    {
     "data": {
      "text/plain": [
       "AM/PM\n",
       "PM    0.698638\n",
       "AM    0.301362\n",
       "Name: count, dtype: float64"
      ]
     },
     "execution_count": 757,
     "metadata": {},
     "output_type": "execute_result"
    }
   ],
   "source": [
    "df[\"AM/PM\"].value_counts() / len(df)"
   ]
  },
  {
   "cell_type": "code",
   "execution_count": 758,
   "metadata": {},
   "outputs": [],
   "source": [
    "df[\"Day\"]= df[\"Day\"].astype(int)\n",
    "visulDf= df.sort_values(by =\"Day\")"
   ]
  },
  {
   "cell_type": "code",
   "execution_count": null,
   "metadata": {},
   "outputs": [],
   "source": []
  },
  {
   "cell_type": "code",
   "execution_count": 759,
   "metadata": {},
   "outputs": [
    {
     "data": {
      "image/png": "[encoded data removed]",
      "text/plain": [
       "<Figure size 640x480 with 1 Axes>"
      ]
     },
     "metadata": {},
     "output_type": "display_data"
    }
   ],
   "source": [
    "sns.countplot(x= \"Day\", data= visulDf)\n",
    "plt.xticks(rotation = 45)\n",
    "plt.show()"
   ]
  },
  {
   "cell_type": "markdown",
   "metadata": {},
   "source": [
    "### <span style=\"color: green;\"> Insight </span> : All days of the month have appoximatly the same number of purchases except the last day (31), which is expected since not all months have a 31th day\n",
    "### <span style=\"color: yellow;\"> Suggestion </span> : Ensure that this does not indicate an issue with sales performance on the day"
   ]
  },
  {
   "cell_type": "code",
   "execution_count": null,
   "metadata": {},
   "outputs": [],
   "source": []
  },
  {
   "cell_type": "code",
   "execution_count": null,
   "metadata": {},
   "outputs": [],
   "source": []
  },
  {
   "cell_type": "markdown",
   "metadata": {},
   "source": [
    "### 3- \tQuantity Ordered column analysis"
   ]
  },
  {
   "cell_type": "markdown",
   "metadata": {},
   "source": []
  },
  {
   "cell_type": "code",
   "execution_count": 760,
   "metadata": {},
   "outputs": [
    {
     "data": {
      "text/plain": [
       "count    30246.000000\n",
       "mean         1.124446\n",
       "std          0.441656\n",
       "min          1.000000\n",
       "25%          1.000000\n",
       "50%          1.000000\n",
       "75%          1.000000\n",
       "max          8.000000\n",
       "Name: Quantity Ordered, dtype: float64"
      ]
     },
     "execution_count": 760,
     "metadata": {},
     "output_type": "execute_result"
    }
   ],
   "source": [
    "df[\"Quantity Ordered\"].describe()"
   ]
  },
  {
   "cell_type": "code",
   "execution_count": 761,
   "metadata": {},
   "outputs": [
    {
     "data": {
      "image/png": "[encoded data removed]",
      "text/plain": [
       "<Figure size 1000x600 with 1 Axes>"
      ]
     },
     "metadata": {},
     "output_type": "display_data"
    }
   ],
   "source": [
    "plt.figure(figsize=(10, 6))\n",
    "sns.histplot(df['Quantity Ordered'], bins=20)\n",
    "plt.title('Distribution of Quantities Ordered')\n",
    "plt.xlabel('Quantity Ordered')\n",
    "plt.ylabel('Frequency')\n",
    "plt.show()"
   ]
  },
  {
   "cell_type": "code",
   "execution_count": 762,
   "metadata": {},
   "outputs": [
    {
     "data": {
      "text/plain": [
       "AM/PM  Quantity Ordered\n",
       "AM     1                    8250\n",
       "       2                     672\n",
       "       3                     130\n",
       "       4                      39\n",
       "       5                      17\n",
       "       6                       4\n",
       "       7                       2\n",
       "       8                       1\n",
       "PM     1                   19155\n",
       "       2                    1512\n",
       "       3                     342\n",
       "       4                      89\n",
       "       5                      23\n",
       "       6                       7\n",
       "       7                       3\n",
       "Name: count, dtype: int64"
      ]
     },
     "execution_count": 762,
     "metadata": {},
     "output_type": "execute_result"
    }
   ],
   "source": [
    "df.groupby(\"AM/PM\")[\"Quantity Ordered\"].value_counts()"
   ]
  },
  {
   "cell_type": "code",
   "execution_count": 763,
   "metadata": {},
   "outputs": [],
   "source": [
    "oneQuantAm = df.groupby(\"AM/PM\")[\"Quantity Ordered\"].value_counts().iloc[0]\n"
   ]
  },
  {
   "cell_type": "code",
   "execution_count": 764,
   "metadata": {},
   "outputs": [
    {
     "data": {
      "text/plain": [
       "0.9051014810751509"
      ]
     },
     "execution_count": 764,
     "metadata": {},
     "output_type": "execute_result"
    }
   ],
   "source": [
    "moreQuantAm= df.groupby(\"AM/PM\")[\"Quantity Ordered\"].value_counts().iloc[0:8].sum()\n",
    "\n",
    "oneQuantAm/ moreQuantAm"
   ]
  },
  {
   "cell_type": "code",
   "execution_count": 765,
   "metadata": {},
   "outputs": [
    {
     "data": {
      "text/plain": [
       "0.9064880980549903"
      ]
     },
     "execution_count": 765,
     "metadata": {},
     "output_type": "execute_result"
    }
   ],
   "source": [
    "df.groupby(\"AM/PM\")[\"Quantity Ordered\"].value_counts().iloc[8] / df.groupby(\"AM/PM\")[\"Quantity Ordered\"].value_counts().iloc[8:15].sum()\n"
   ]
  },
  {
   "cell_type": "code",
   "execution_count": 766,
   "metadata": {},
   "outputs": [
    {
     "data": {
      "text/plain": [
       "AM/PM  Quantity Ordered\n",
       "AM     1                    8250\n",
       "       2                     672\n",
       "       3                     130\n",
       "       4                      39\n",
       "       5                      17\n",
       "       6                       4\n",
       "       7                       2\n",
       "       8                       1\n",
       "PM     1                   19155\n",
       "       2                    1512\n",
       "       3                     342\n",
       "       4                      89\n",
       "       5                      23\n",
       "       6                       7\n",
       "       7                       3\n",
       "Name: count, dtype: int64"
      ]
     },
     "execution_count": 766,
     "metadata": {},
     "output_type": "execute_result"
    }
   ],
   "source": [
    "df.groupby(\"AM/PM\")[\"Quantity Ordered\"].value_counts()"
   ]
  },
  {
   "cell_type": "code",
   "execution_count": 767,
   "metadata": {},
   "outputs": [
    {
     "data": {
      "text/plain": [
       "<Axes: xlabel='AM/PM', ylabel='count'>"
      ]
     },
     "execution_count": 767,
     "metadata": {},
     "output_type": "execute_result"
    },
    {
     "data": {
      "image/png": "[encoded data removed]",
      "text/plain": [
       "<Figure size 640x480 with 1 Axes>"
      ]
     },
     "metadata": {},
     "output_type": "display_data"
    }
   ],
   "source": [
    "sns.countplot(x= \"AM/PM\", data = df, hue = \"Quantity Ordered\")"
   ]
  },
  {
   "cell_type": "markdown",
   "metadata": {},
   "source": [
    "### 4- Purchase Address column analysis"
   ]
  },
  {
   "cell_type": "code",
   "execution_count": 768,
   "metadata": {},
   "outputs": [
    {
     "data": {
      "text/plain": [
       "0                   917 1st St, Dallas, TX 75001\n",
       "2              682 Chestnut St, Boston, MA 02215\n",
       "3           669 Spruce St, Los Angeles, CA 90001\n",
       "4           669 Spruce St, Los Angeles, CA 90001\n",
       "5              333 8th St, Los Angeles, CA 90001\n",
       "                          ...                   \n",
       "30389    868 Hickory St, San Francisco, CA 94016\n",
       "30390          206 Lakeview St, Boston, MA 02215\n",
       "30391             568 13th St, Seattle, WA 98101\n",
       "30392     495 Walnut St, San Francisco, CA 94016\n",
       "30393         738 Park St, Los Angeles, CA 90001\n",
       "Name: Purchase Address, Length: 30246, dtype: object"
      ]
     },
     "execution_count": 768,
     "metadata": {},
     "output_type": "execute_result"
    }
   ],
   "source": [
    "df[\"Purchase Address\"]"
   ]
  },
  {
   "cell_type": "markdown",
   "metadata": {},
   "source": [
    "### We will do feature eng for this column for same reason we did for Order Date column"
   ]
  },
  {
   "cell_type": "markdown",
   "metadata": {},
   "source": []
  },
  {
   "cell_type": "code",
   "execution_count": 769,
   "metadata": {},
   "outputs": [
    {
     "data": {
      "text/html": [
       "<div>\n",
       "<style scoped>\n",
       "    .dataframe tbody tr th:only-of-type {\n",
       "        vertical-align: middle;\n",
       "    }\n",
       "\n",
       "    .dataframe tbody tr th {\n",
       "        vertical-align: top;\n",
       "    }\n",
       "\n",
       "    .dataframe thead th {\n",
       "        text-align: right;\n",
       "    }\n",
       "</style>\n",
       "<table border=\"1\" class=\"dataframe\">\n",
       "  <thead>\n",
       "    <tr style=\"text-align: right;\">\n",
       "      <th></th>\n",
       "      <th>Purchase Address</th>\n",
       "      <th>City</th>\n",
       "      <th>State</th>\n",
       "      <th>Zip Code</th>\n",
       "    </tr>\n",
       "  </thead>\n",
       "  <tbody>\n",
       "    <tr>\n",
       "      <th>0</th>\n",
       "      <td>917 1st St, Dallas, TX 75001</td>\n",
       "      <td>Dallas</td>\n",
       "      <td>TX</td>\n",
       "      <td>75001</td>\n",
       "    </tr>\n",
       "    <tr>\n",
       "      <th>2</th>\n",
       "      <td>682 Chestnut St, Boston, MA 02215</td>\n",
       "      <td>Boston</td>\n",
       "      <td>MA</td>\n",
       "      <td>02215</td>\n",
       "    </tr>\n",
       "    <tr>\n",
       "      <th>3</th>\n",
       "      <td>669 Spruce St, Los Angeles, CA 90001</td>\n",
       "      <td>Los Angeles</td>\n",
       "      <td>CA</td>\n",
       "      <td>90001</td>\n",
       "    </tr>\n",
       "    <tr>\n",
       "      <th>4</th>\n",
       "      <td>669 Spruce St, Los Angeles, CA 90001</td>\n",
       "      <td>Los Angeles</td>\n",
       "      <td>CA</td>\n",
       "      <td>90001</td>\n",
       "    </tr>\n",
       "    <tr>\n",
       "      <th>5</th>\n",
       "      <td>333 8th St, Los Angeles, CA 90001</td>\n",
       "      <td>Los Angeles</td>\n",
       "      <td>CA</td>\n",
       "      <td>90001</td>\n",
       "    </tr>\n",
       "  </tbody>\n",
       "</table>\n",
       "</div>"
      ],
      "text/plain": [
       "                       Purchase Address         City State Zip Code\n",
       "0          917 1st St, Dallas, TX 75001       Dallas    TX    75001\n",
       "2     682 Chestnut St, Boston, MA 02215       Boston    MA    02215\n",
       "3  669 Spruce St, Los Angeles, CA 90001  Los Angeles    CA    90001\n",
       "4  669 Spruce St, Los Angeles, CA 90001  Los Angeles    CA    90001\n",
       "5     333 8th St, Los Angeles, CA 90001  Los Angeles    CA    90001"
      ]
     },
     "execution_count": 769,
     "metadata": {},
     "output_type": "execute_result"
    }
   ],
   "source": [
    "df['City'] = df['Purchase Address'].apply(lambda x: x.split(',')[1].strip())\n",
    "\n",
    "df['State'] = df['Purchase Address'].apply(lambda x: x.split(',')[2].split()[0].strip())\n",
    "\n",
    "df['Zip Code'] = df['Purchase Address'].apply(lambda x: x.split(',')[2].split()[1].strip())\n",
    "\n",
    "df[['Purchase Address', 'City', 'State', 'Zip Code']].head()"
   ]
  },
  {
   "cell_type": "code",
   "execution_count": 770,
   "metadata": {},
   "outputs": [
    {
     "data": {
      "image/png": "[encoded data removed]",
      "text/plain": [
       "<Figure size 640x480 with 1 Axes>"
      ]
     },
     "metadata": {},
     "output_type": "display_data"
    }
   ],
   "source": [
    "sns.countplot(x= \"City\", data = df)\n",
    "plt.xticks(rotation = 45)\n",
    "plt.show()"
   ]
  },
  {
   "cell_type": "markdown",
   "metadata": {},
   "source": [
    "\n",
    "\n",
    "### <span style=\"color: green;\"> Insight </span> : San Francisco,  Los Angeles and New York City have the highest number of purchases \n",
    "### <span style=\"color: yellow;\"> Suggestion </span> : Given the high volume of purchases in San Francisco, Los Angeles, and New York City, consider focusing marketing efforts and resources in these areas\n"
   ]
  },
  {
   "cell_type": "code",
   "execution_count": 771,
   "metadata": {},
   "outputs": [
    {
     "data": {
      "image/png": "[encoded data removed]",
      "text/plain": [
       "<Figure size 640x480 with 1 Axes>"
      ]
     },
     "metadata": {},
     "output_type": "display_data"
    }
   ],
   "source": [
    "sns.countplot(x= \"State\", data = df)\n",
    "plt.xticks(rotation = 45)\n",
    "plt.show()"
   ]
  },
  {
   "cell_type": "code",
   "execution_count": 772,
   "metadata": {},
   "outputs": [],
   "source": [
    "df = df.drop(columns=[\"Purchase Address\"])"
   ]
  },
  {
   "cell_type": "code",
   "execution_count": null,
   "metadata": {},
   "outputs": [],
   "source": []
  },
  {
   "cell_type": "markdown",
   "metadata": {},
   "source": [
    "### 5- Price  column"
   ]
  },
  {
   "cell_type": "code",
   "execution_count": 773,
   "metadata": {},
   "outputs": [],
   "source": [
    "df = df.drop(columns=[\"Price Each\"])\n"
   ]
  },
  {
   "cell_type": "code",
   "execution_count": 774,
   "metadata": {},
   "outputs": [
    {
     "data": {
      "text/plain": [
       "count    30246.000000\n",
       "mean       186.486524\n",
       "std        332.272354\n",
       "min          2.990000\n",
       "25%         11.950000\n",
       "50%         14.950000\n",
       "75%        150.000000\n",
       "max       3400.000000\n",
       "Name: Price, dtype: float64"
      ]
     },
     "execution_count": 774,
     "metadata": {},
     "output_type": "execute_result"
    }
   ],
   "source": [
    "df[\"Price\"].describe()"
   ]
  },
  {
   "cell_type": "markdown",
   "metadata": {},
   "source": [
    "### The std indicates a significant variability in price"
   ]
  },
  {
   "cell_type": "code",
   "execution_count": 775,
   "metadata": {},
   "outputs": [
    {
     "data": {
      "image/png": "[encoded data removed]",
      "text/plain": [
       "<Figure size 1000x600 with 1 Axes>"
      ]
     },
     "metadata": {},
     "output_type": "display_data"
    }
   ],
   "source": [
    "plt.figure(figsize=(10, 6))\n",
    "sns.histplot(df['Price'], kde=True, bins=30, color='skyblue')\n",
    "plt.title('Distribution of Unit Prices')\n",
    "plt.xlabel('Price')\n",
    "plt.ylabel('Frequency')\n",
    "plt.show()"
   ]
  },
  {
   "cell_type": "code",
   "execution_count": 776,
   "metadata": {},
   "outputs": [
    {
     "data": {
      "image/png": "[encoded data removed]",
      "text/plain": [
       "<Figure size 1000x600 with 1 Axes>"
      ]
     },
     "metadata": {},
     "output_type": "display_data"
    }
   ],
   "source": [
    "plt.figure(figsize=(10, 6))\n",
    "sns.boxplot(y= df['Price'], color='skyblue')\n",
    "plt.title('Box Plot of Unit Prices')\n",
    "plt.xlabel('Price ')\n",
    "plt.show()"
   ]
  },
  {
   "cell_type": "code",
   "execution_count": null,
   "metadata": {},
   "outputs": [],
   "source": []
  },
  {
   "cell_type": "markdown",
   "metadata": {},
   "source": [
    "### Lets investigate the outliers"
   ]
  },
  {
   "cell_type": "code",
   "execution_count": 777,
   "metadata": {},
   "outputs": [],
   "source": [
    "Q1 = df[\"Price\"].quantile(0.25)\n",
    "Q3 = df[\"Price\"].quantile(0.75)\n",
    "\n",
    "IQR = Q3 - Q1\n",
    "\n",
    "upper_whisker = Q3 + 1.5 * IQR"
   ]
  },
  {
   "cell_type": "code",
   "execution_count": 778,
   "metadata": {},
   "outputs": [
    {
     "data": {
      "text/plain": [
       "3                  Google Phone\n",
       "9            Macbook Pro Laptop\n",
       "11                 Google Phone\n",
       "13       27in 4K Gaming Monitor\n",
       "18                 Google Phone\n",
       "                  ...          \n",
       "30375    27in 4K Gaming Monitor\n",
       "30378        LG Washing Machine\n",
       "30381    27in 4K Gaming Monitor\n",
       "30382                    iPhone\n",
       "30385    34in Ultrawide Monitor\n",
       "Name: Product, Length: 6114, dtype: object"
      ]
     },
     "execution_count": 778,
     "metadata": {},
     "output_type": "execute_result"
    }
   ],
   "source": [
    "df[df[\"Price\"]> upper_whisker][\"Product\"]"
   ]
  },
  {
   "cell_type": "markdown",
   "metadata": {},
   "source": [
    "### We can see the prodcuts that have a significantly high prices are Phones and Laptops"
   ]
  },
  {
   "cell_type": "markdown",
   "metadata": {},
   "source": [
    "###  While prices above upper_whisker are statistically considered outliers, based on domain knowledge it is reasnoble for these products to have much higher prices than other products"
   ]
  },
  {
   "cell_type": "markdown",
   "metadata": {},
   "source": [
    "### For simplcity, i will remove Macbook Pro Laptop with Quantity two ( which are only two rows)"
   ]
  },
  {
   "cell_type": "code",
   "execution_count": 779,
   "metadata": {},
   "outputs": [],
   "source": [
    "indx = df.sort_values(by = \"Price\", ascending=False).head(2).index\n",
    "df = df.drop(indx)"
   ]
  },
  {
   "cell_type": "markdown",
   "metadata": {},
   "source": []
  },
  {
   "cell_type": "code",
   "execution_count": 780,
   "metadata": {},
   "outputs": [
    {
     "data": {
      "text/html": [
       "<div>\n",
       "<style scoped>\n",
       "    .dataframe tbody tr th:only-of-type {\n",
       "        vertical-align: middle;\n",
       "    }\n",
       "\n",
       "    .dataframe tbody tr th {\n",
       "        vertical-align: top;\n",
       "    }\n",
       "\n",
       "    .dataframe thead th {\n",
       "        text-align: right;\n",
       "    }\n",
       "</style>\n",
       "<table border=\"1\" class=\"dataframe\">\n",
       "  <thead>\n",
       "    <tr style=\"text-align: right;\">\n",
       "      <th></th>\n",
       "      <th>Product</th>\n",
       "      <th>Quantity Ordered</th>\n",
       "      <th>Price</th>\n",
       "      <th>Month</th>\n",
       "      <th>Day</th>\n",
       "      <th>Time</th>\n",
       "      <th>AM/PM</th>\n",
       "      <th>City</th>\n",
       "      <th>State</th>\n",
       "      <th>Zip Code</th>\n",
       "    </tr>\n",
       "  </thead>\n",
       "  <tbody>\n",
       "    <tr>\n",
       "      <th>0</th>\n",
       "      <td>USB-C Charging Cable</td>\n",
       "      <td>2</td>\n",
       "      <td>23.90</td>\n",
       "      <td>04</td>\n",
       "      <td>19</td>\n",
       "      <td>08:46</td>\n",
       "      <td>AM</td>\n",
       "      <td>Dallas</td>\n",
       "      <td>TX</td>\n",
       "      <td>75001</td>\n",
       "    </tr>\n",
       "    <tr>\n",
       "      <th>2</th>\n",
       "      <td>Bose SoundSport Headphones</td>\n",
       "      <td>1</td>\n",
       "      <td>99.99</td>\n",
       "      <td>04</td>\n",
       "      <td>7</td>\n",
       "      <td>22:30</td>\n",
       "      <td>PM</td>\n",
       "      <td>Boston</td>\n",
       "      <td>MA</td>\n",
       "      <td>02215</td>\n",
       "    </tr>\n",
       "    <tr>\n",
       "      <th>3</th>\n",
       "      <td>Google Phone</td>\n",
       "      <td>1</td>\n",
       "      <td>600.00</td>\n",
       "      <td>04</td>\n",
       "      <td>12</td>\n",
       "      <td>14:38</td>\n",
       "      <td>PM</td>\n",
       "      <td>Los Angeles</td>\n",
       "      <td>CA</td>\n",
       "      <td>90001</td>\n",
       "    </tr>\n",
       "    <tr>\n",
       "      <th>4</th>\n",
       "      <td>Wired Headphones</td>\n",
       "      <td>1</td>\n",
       "      <td>11.99</td>\n",
       "      <td>04</td>\n",
       "      <td>12</td>\n",
       "      <td>14:38</td>\n",
       "      <td>PM</td>\n",
       "      <td>Los Angeles</td>\n",
       "      <td>CA</td>\n",
       "      <td>90001</td>\n",
       "    </tr>\n",
       "    <tr>\n",
       "      <th>5</th>\n",
       "      <td>Wired Headphones</td>\n",
       "      <td>1</td>\n",
       "      <td>11.99</td>\n",
       "      <td>04</td>\n",
       "      <td>30</td>\n",
       "      <td>09:27</td>\n",
       "      <td>AM</td>\n",
       "      <td>Los Angeles</td>\n",
       "      <td>CA</td>\n",
       "      <td>90001</td>\n",
       "    </tr>\n",
       "    <tr>\n",
       "      <th>...</th>\n",
       "      <td>...</td>\n",
       "      <td>...</td>\n",
       "      <td>...</td>\n",
       "      <td>...</td>\n",
       "      <td>...</td>\n",
       "      <td>...</td>\n",
       "      <td>...</td>\n",
       "      <td>...</td>\n",
       "      <td>...</td>\n",
       "      <td>...</td>\n",
       "    </tr>\n",
       "    <tr>\n",
       "      <th>30389</th>\n",
       "      <td>Bose SoundSport Headphones</td>\n",
       "      <td>1</td>\n",
       "      <td>99.99</td>\n",
       "      <td>08</td>\n",
       "      <td>29</td>\n",
       "      <td>22:19</td>\n",
       "      <td>PM</td>\n",
       "      <td>San Francisco</td>\n",
       "      <td>CA</td>\n",
       "      <td>94016</td>\n",
       "    </tr>\n",
       "    <tr>\n",
       "      <th>30390</th>\n",
       "      <td>AAA Batteries (4-pack)</td>\n",
       "      <td>3</td>\n",
       "      <td>8.97</td>\n",
       "      <td>08</td>\n",
       "      <td>31</td>\n",
       "      <td>16:26</td>\n",
       "      <td>PM</td>\n",
       "      <td>Boston</td>\n",
       "      <td>MA</td>\n",
       "      <td>02215</td>\n",
       "    </tr>\n",
       "    <tr>\n",
       "      <th>30391</th>\n",
       "      <td>AA Batteries (4-pack)</td>\n",
       "      <td>1</td>\n",
       "      <td>3.84</td>\n",
       "      <td>08</td>\n",
       "      <td>2</td>\n",
       "      <td>07:25</td>\n",
       "      <td>AM</td>\n",
       "      <td>Seattle</td>\n",
       "      <td>WA</td>\n",
       "      <td>98101</td>\n",
       "    </tr>\n",
       "    <tr>\n",
       "      <th>30392</th>\n",
       "      <td>USB-C Charging Cable</td>\n",
       "      <td>1</td>\n",
       "      <td>11.95</td>\n",
       "      <td>08</td>\n",
       "      <td>8</td>\n",
       "      <td>12:10</td>\n",
       "      <td>PM</td>\n",
       "      <td>San Francisco</td>\n",
       "      <td>CA</td>\n",
       "      <td>94016</td>\n",
       "    </tr>\n",
       "    <tr>\n",
       "      <th>30393</th>\n",
       "      <td>AA Batteries (4-pack)</td>\n",
       "      <td>1</td>\n",
       "      <td>3.84</td>\n",
       "      <td>08</td>\n",
       "      <td>16</td>\n",
       "      <td>08:13</td>\n",
       "      <td>AM</td>\n",
       "      <td>Los Angeles</td>\n",
       "      <td>CA</td>\n",
       "      <td>90001</td>\n",
       "    </tr>\n",
       "  </tbody>\n",
       "</table>\n",
       "<p>30244 rows × 10 columns</p>\n",
       "</div>"
      ],
      "text/plain": [
       "                          Product  Quantity Ordered   Price Month  Day   Time  \\\n",
       "0            USB-C Charging Cable                 2   23.90    04   19  08:46   \n",
       "2      Bose SoundSport Headphones                 1   99.99    04    7  22:30   \n",
       "3                    Google Phone                 1  600.00    04   12  14:38   \n",
       "4                Wired Headphones                 1   11.99    04   12  14:38   \n",
       "5                Wired Headphones                 1   11.99    04   30  09:27   \n",
       "...                           ...               ...     ...   ...  ...    ...   \n",
       "30389  Bose SoundSport Headphones                 1   99.99    08   29  22:19   \n",
       "30390      AAA Batteries (4-pack)                 3    8.97    08   31  16:26   \n",
       "30391       AA Batteries (4-pack)                 1    3.84    08    2  07:25   \n",
       "30392        USB-C Charging Cable                 1   11.95    08    8  12:10   \n",
       "30393       AA Batteries (4-pack)                 1    3.84    08   16  08:13   \n",
       "\n",
       "      AM/PM           City State Zip Code  \n",
       "0        AM         Dallas    TX    75001  \n",
       "2        PM         Boston    MA    02215  \n",
       "3        PM    Los Angeles    CA    90001  \n",
       "4        PM    Los Angeles    CA    90001  \n",
       "5        AM    Los Angeles    CA    90001  \n",
       "...     ...            ...   ...      ...  \n",
       "30389    PM  San Francisco    CA    94016  \n",
       "30390    PM         Boston    MA    02215  \n",
       "30391    AM        Seattle    WA    98101  \n",
       "30392    PM  San Francisco    CA    94016  \n",
       "30393    AM    Los Angeles    CA    90001  \n",
       "\n",
       "[30244 rows x 10 columns]"
      ]
     },
     "execution_count": 780,
     "metadata": {},
     "output_type": "execute_result"
    }
   ],
   "source": [
    "df"
   ]
  },
  {
   "cell_type": "markdown",
   "metadata": {},
   "source": [
    "### It needs to be scaled "
   ]
  },
  {
   "cell_type": "code",
   "execution_count": 781,
   "metadata": {},
   "outputs": [],
   "source": [
    "df['Price'] = np.log1p(df['Price'])"
   ]
  },
  {
   "cell_type": "code",
   "execution_count": 782,
   "metadata": {},
   "outputs": [
    {
     "data": {
      "image/png": "[encoded data removed]",
      "text/plain": [
       "<Figure size 1000x600 with 1 Axes>"
      ]
     },
     "metadata": {},
     "output_type": "display_data"
    }
   ],
   "source": [
    "plt.figure(figsize=(10, 6))\n",
    "sns.boxplot(y= df['Price'], color='skyblue')\n",
    "plt.title('Box Plot of Unit Prices')\n",
    "plt.xlabel('Price ')\n",
    "plt.show()"
   ]
  },
  {
   "cell_type": "code",
   "execution_count": 783,
   "metadata": {},
   "outputs": [
    {
     "data": {
      "text/html": [
       "<div>\n",
       "<style scoped>\n",
       "    .dataframe tbody tr th:only-of-type {\n",
       "        vertical-align: middle;\n",
       "    }\n",
       "\n",
       "    .dataframe tbody tr th {\n",
       "        vertical-align: top;\n",
       "    }\n",
       "\n",
       "    .dataframe thead th {\n",
       "        text-align: right;\n",
       "    }\n",
       "</style>\n",
       "<table border=\"1\" class=\"dataframe\">\n",
       "  <thead>\n",
       "    <tr style=\"text-align: right;\">\n",
       "      <th></th>\n",
       "      <th>Product</th>\n",
       "      <th>Quantity Ordered</th>\n",
       "      <th>Price</th>\n",
       "      <th>Month</th>\n",
       "      <th>Day</th>\n",
       "      <th>Time</th>\n",
       "      <th>AM/PM</th>\n",
       "      <th>City</th>\n",
       "      <th>State</th>\n",
       "      <th>Zip Code</th>\n",
       "    </tr>\n",
       "  </thead>\n",
       "  <tbody>\n",
       "    <tr>\n",
       "      <th>0</th>\n",
       "      <td>USB-C Charging Cable</td>\n",
       "      <td>2</td>\n",
       "      <td>3.214868</td>\n",
       "      <td>04</td>\n",
       "      <td>19</td>\n",
       "      <td>08:46</td>\n",
       "      <td>AM</td>\n",
       "      <td>Dallas</td>\n",
       "      <td>TX</td>\n",
       "      <td>75001</td>\n",
       "    </tr>\n",
       "    <tr>\n",
       "      <th>2</th>\n",
       "      <td>Bose SoundSport Headphones</td>\n",
       "      <td>1</td>\n",
       "      <td>4.615022</td>\n",
       "      <td>04</td>\n",
       "      <td>7</td>\n",
       "      <td>22:30</td>\n",
       "      <td>PM</td>\n",
       "      <td>Boston</td>\n",
       "      <td>MA</td>\n",
       "      <td>02215</td>\n",
       "    </tr>\n",
       "    <tr>\n",
       "      <th>3</th>\n",
       "      <td>Google Phone</td>\n",
       "      <td>1</td>\n",
       "      <td>6.398595</td>\n",
       "      <td>04</td>\n",
       "      <td>12</td>\n",
       "      <td>14:38</td>\n",
       "      <td>PM</td>\n",
       "      <td>Los Angeles</td>\n",
       "      <td>CA</td>\n",
       "      <td>90001</td>\n",
       "    </tr>\n",
       "    <tr>\n",
       "      <th>4</th>\n",
       "      <td>Wired Headphones</td>\n",
       "      <td>1</td>\n",
       "      <td>2.564180</td>\n",
       "      <td>04</td>\n",
       "      <td>12</td>\n",
       "      <td>14:38</td>\n",
       "      <td>PM</td>\n",
       "      <td>Los Angeles</td>\n",
       "      <td>CA</td>\n",
       "      <td>90001</td>\n",
       "    </tr>\n",
       "    <tr>\n",
       "      <th>5</th>\n",
       "      <td>Wired Headphones</td>\n",
       "      <td>1</td>\n",
       "      <td>2.564180</td>\n",
       "      <td>04</td>\n",
       "      <td>30</td>\n",
       "      <td>09:27</td>\n",
       "      <td>AM</td>\n",
       "      <td>Los Angeles</td>\n",
       "      <td>CA</td>\n",
       "      <td>90001</td>\n",
       "    </tr>\n",
       "    <tr>\n",
       "      <th>...</th>\n",
       "      <td>...</td>\n",
       "      <td>...</td>\n",
       "      <td>...</td>\n",
       "      <td>...</td>\n",
       "      <td>...</td>\n",
       "      <td>...</td>\n",
       "      <td>...</td>\n",
       "      <td>...</td>\n",
       "      <td>...</td>\n",
       "      <td>...</td>\n",
       "    </tr>\n",
       "    <tr>\n",
       "      <th>30389</th>\n",
       "      <td>Bose SoundSport Headphones</td>\n",
       "      <td>1</td>\n",
       "      <td>4.615022</td>\n",
       "      <td>08</td>\n",
       "      <td>29</td>\n",
       "      <td>22:19</td>\n",
       "      <td>PM</td>\n",
       "      <td>San Francisco</td>\n",
       "      <td>CA</td>\n",
       "      <td>94016</td>\n",
       "    </tr>\n",
       "    <tr>\n",
       "      <th>30390</th>\n",
       "      <td>AAA Batteries (4-pack)</td>\n",
       "      <td>3</td>\n",
       "      <td>2.299581</td>\n",
       "      <td>08</td>\n",
       "      <td>31</td>\n",
       "      <td>16:26</td>\n",
       "      <td>PM</td>\n",
       "      <td>Boston</td>\n",
       "      <td>MA</td>\n",
       "      <td>02215</td>\n",
       "    </tr>\n",
       "    <tr>\n",
       "      <th>30391</th>\n",
       "      <td>AA Batteries (4-pack)</td>\n",
       "      <td>1</td>\n",
       "      <td>1.576915</td>\n",
       "      <td>08</td>\n",
       "      <td>2</td>\n",
       "      <td>07:25</td>\n",
       "      <td>AM</td>\n",
       "      <td>Seattle</td>\n",
       "      <td>WA</td>\n",
       "      <td>98101</td>\n",
       "    </tr>\n",
       "    <tr>\n",
       "      <th>30392</th>\n",
       "      <td>USB-C Charging Cable</td>\n",
       "      <td>1</td>\n",
       "      <td>2.561096</td>\n",
       "      <td>08</td>\n",
       "      <td>8</td>\n",
       "      <td>12:10</td>\n",
       "      <td>PM</td>\n",
       "      <td>San Francisco</td>\n",
       "      <td>CA</td>\n",
       "      <td>94016</td>\n",
       "    </tr>\n",
       "    <tr>\n",
       "      <th>30393</th>\n",
       "      <td>AA Batteries (4-pack)</td>\n",
       "      <td>1</td>\n",
       "      <td>1.576915</td>\n",
       "      <td>08</td>\n",
       "      <td>16</td>\n",
       "      <td>08:13</td>\n",
       "      <td>AM</td>\n",
       "      <td>Los Angeles</td>\n",
       "      <td>CA</td>\n",
       "      <td>90001</td>\n",
       "    </tr>\n",
       "  </tbody>\n",
       "</table>\n",
       "<p>30244 rows × 10 columns</p>\n",
       "</div>"
      ],
      "text/plain": [
       "                          Product  Quantity Ordered     Price Month  Day  \\\n",
       "0            USB-C Charging Cable                 2  3.214868    04   19   \n",
       "2      Bose SoundSport Headphones                 1  4.615022    04    7   \n",
       "3                    Google Phone                 1  6.398595    04   12   \n",
       "4                Wired Headphones                 1  2.564180    04   12   \n",
       "5                Wired Headphones                 1  2.564180    04   30   \n",
       "...                           ...               ...       ...   ...  ...   \n",
       "30389  Bose SoundSport Headphones                 1  4.615022    08   29   \n",
       "30390      AAA Batteries (4-pack)                 3  2.299581    08   31   \n",
       "30391       AA Batteries (4-pack)                 1  1.576915    08    2   \n",
       "30392        USB-C Charging Cable                 1  2.561096    08    8   \n",
       "30393       AA Batteries (4-pack)                 1  1.576915    08   16   \n",
       "\n",
       "        Time AM/PM           City State Zip Code  \n",
       "0      08:46    AM         Dallas    TX    75001  \n",
       "2      22:30    PM         Boston    MA    02215  \n",
       "3      14:38    PM    Los Angeles    CA    90001  \n",
       "4      14:38    PM    Los Angeles    CA    90001  \n",
       "5      09:27    AM    Los Angeles    CA    90001  \n",
       "...      ...   ...            ...   ...      ...  \n",
       "30389  22:19    PM  San Francisco    CA    94016  \n",
       "30390  16:26    PM         Boston    MA    02215  \n",
       "30391  07:25    AM        Seattle    WA    98101  \n",
       "30392  12:10    PM  San Francisco    CA    94016  \n",
       "30393  08:13    AM    Los Angeles    CA    90001  \n",
       "\n",
       "[30244 rows x 10 columns]"
      ]
     },
     "execution_count": 783,
     "metadata": {},
     "output_type": "execute_result"
    }
   ],
   "source": [
    "df"
   ]
  },
  {
   "cell_type": "code",
   "execution_count": null,
   "metadata": {},
   "outputs": [],
   "source": []
  },
  {
   "cell_type": "code",
   "execution_count": 784,
   "metadata": {},
   "outputs": [],
   "source": [
    "# Extract unique products and assign ProductID\n",
    "products_df = df[['Product']].drop_duplicates().reset_index(drop=True)\n",
    "products_df['ProductID'] = products_df.index + 1\n",
    "\n",
    "# Extract unique locations and assign LocationID\n",
    "locations_df = df[['City', 'State', 'Zip Code']].drop_duplicates().reset_index(drop=True)\n",
    "locations_df['LocationID'] = locations_df.index + 1\n",
    "\n",
    "# Merge ProductID and LocationID back into the original dataframe\n",
    "df2 = df.merge(products_df, on='Product').merge(locations_df, on=['City', 'State', 'Zip Code'])"
   ]
  },
  {
   "cell_type": "code",
   "execution_count": 785,
   "metadata": {},
   "outputs": [
    {
     "data": {
      "text/html": [
       "<div>\n",
       "<style scoped>\n",
       "    .dataframe tbody tr th:only-of-type {\n",
       "        vertical-align: middle;\n",
       "    }\n",
       "\n",
       "    .dataframe tbody tr th {\n",
       "        vertical-align: top;\n",
       "    }\n",
       "\n",
       "    .dataframe thead th {\n",
       "        text-align: right;\n",
       "    }\n",
       "</style>\n",
       "<table border=\"1\" class=\"dataframe\">\n",
       "  <thead>\n",
       "    <tr style=\"text-align: right;\">\n",
       "      <th></th>\n",
       "      <th>Product</th>\n",
       "      <th>Quantity Ordered</th>\n",
       "      <th>Price</th>\n",
       "      <th>Month</th>\n",
       "      <th>Day</th>\n",
       "      <th>Time</th>\n",
       "      <th>AM/PM</th>\n",
       "      <th>City</th>\n",
       "      <th>State</th>\n",
       "      <th>Zip Code</th>\n",
       "      <th>ProductID</th>\n",
       "      <th>LocationID</th>\n",
       "    </tr>\n",
       "  </thead>\n",
       "  <tbody>\n",
       "    <tr>\n",
       "      <th>0</th>\n",
       "      <td>USB-C Charging Cable</td>\n",
       "      <td>2</td>\n",
       "      <td>3.214868</td>\n",
       "      <td>04</td>\n",
       "      <td>19</td>\n",
       "      <td>08:46</td>\n",
       "      <td>AM</td>\n",
       "      <td>Dallas</td>\n",
       "      <td>TX</td>\n",
       "      <td>75001</td>\n",
       "      <td>1</td>\n",
       "      <td>1</td>\n",
       "    </tr>\n",
       "    <tr>\n",
       "      <th>1</th>\n",
       "      <td>Bose SoundSport Headphones</td>\n",
       "      <td>1</td>\n",
       "      <td>4.615022</td>\n",
       "      <td>04</td>\n",
       "      <td>7</td>\n",
       "      <td>22:30</td>\n",
       "      <td>PM</td>\n",
       "      <td>Boston</td>\n",
       "      <td>MA</td>\n",
       "      <td>02215</td>\n",
       "      <td>2</td>\n",
       "      <td>2</td>\n",
       "    </tr>\n",
       "    <tr>\n",
       "      <th>2</th>\n",
       "      <td>Google Phone</td>\n",
       "      <td>1</td>\n",
       "      <td>6.398595</td>\n",
       "      <td>04</td>\n",
       "      <td>12</td>\n",
       "      <td>14:38</td>\n",
       "      <td>PM</td>\n",
       "      <td>Los Angeles</td>\n",
       "      <td>CA</td>\n",
       "      <td>90001</td>\n",
       "      <td>3</td>\n",
       "      <td>3</td>\n",
       "    </tr>\n",
       "    <tr>\n",
       "      <th>3</th>\n",
       "      <td>Wired Headphones</td>\n",
       "      <td>1</td>\n",
       "      <td>2.564180</td>\n",
       "      <td>04</td>\n",
       "      <td>12</td>\n",
       "      <td>14:38</td>\n",
       "      <td>PM</td>\n",
       "      <td>Los Angeles</td>\n",
       "      <td>CA</td>\n",
       "      <td>90001</td>\n",
       "      <td>4</td>\n",
       "      <td>3</td>\n",
       "    </tr>\n",
       "    <tr>\n",
       "      <th>4</th>\n",
       "      <td>Wired Headphones</td>\n",
       "      <td>1</td>\n",
       "      <td>2.564180</td>\n",
       "      <td>04</td>\n",
       "      <td>30</td>\n",
       "      <td>09:27</td>\n",
       "      <td>AM</td>\n",
       "      <td>Los Angeles</td>\n",
       "      <td>CA</td>\n",
       "      <td>90001</td>\n",
       "      <td>4</td>\n",
       "      <td>3</td>\n",
       "    </tr>\n",
       "    <tr>\n",
       "      <th>...</th>\n",
       "      <td>...</td>\n",
       "      <td>...</td>\n",
       "      <td>...</td>\n",
       "      <td>...</td>\n",
       "      <td>...</td>\n",
       "      <td>...</td>\n",
       "      <td>...</td>\n",
       "      <td>...</td>\n",
       "      <td>...</td>\n",
       "      <td>...</td>\n",
       "      <td>...</td>\n",
       "      <td>...</td>\n",
       "    </tr>\n",
       "    <tr>\n",
       "      <th>30239</th>\n",
       "      <td>Bose SoundSport Headphones</td>\n",
       "      <td>1</td>\n",
       "      <td>4.615022</td>\n",
       "      <td>08</td>\n",
       "      <td>29</td>\n",
       "      <td>22:19</td>\n",
       "      <td>PM</td>\n",
       "      <td>San Francisco</td>\n",
       "      <td>CA</td>\n",
       "      <td>94016</td>\n",
       "      <td>2</td>\n",
       "      <td>4</td>\n",
       "    </tr>\n",
       "    <tr>\n",
       "      <th>30240</th>\n",
       "      <td>AAA Batteries (4-pack)</td>\n",
       "      <td>3</td>\n",
       "      <td>2.299581</td>\n",
       "      <td>08</td>\n",
       "      <td>31</td>\n",
       "      <td>16:26</td>\n",
       "      <td>PM</td>\n",
       "      <td>Boston</td>\n",
       "      <td>MA</td>\n",
       "      <td>02215</td>\n",
       "      <td>10</td>\n",
       "      <td>2</td>\n",
       "    </tr>\n",
       "    <tr>\n",
       "      <th>30241</th>\n",
       "      <td>AA Batteries (4-pack)</td>\n",
       "      <td>1</td>\n",
       "      <td>1.576915</td>\n",
       "      <td>08</td>\n",
       "      <td>2</td>\n",
       "      <td>07:25</td>\n",
       "      <td>AM</td>\n",
       "      <td>Seattle</td>\n",
       "      <td>WA</td>\n",
       "      <td>98101</td>\n",
       "      <td>8</td>\n",
       "      <td>5</td>\n",
       "    </tr>\n",
       "    <tr>\n",
       "      <th>30242</th>\n",
       "      <td>USB-C Charging Cable</td>\n",
       "      <td>1</td>\n",
       "      <td>2.561096</td>\n",
       "      <td>08</td>\n",
       "      <td>8</td>\n",
       "      <td>12:10</td>\n",
       "      <td>PM</td>\n",
       "      <td>San Francisco</td>\n",
       "      <td>CA</td>\n",
       "      <td>94016</td>\n",
       "      <td>1</td>\n",
       "      <td>4</td>\n",
       "    </tr>\n",
       "    <tr>\n",
       "      <th>30243</th>\n",
       "      <td>AA Batteries (4-pack)</td>\n",
       "      <td>1</td>\n",
       "      <td>1.576915</td>\n",
       "      <td>08</td>\n",
       "      <td>16</td>\n",
       "      <td>08:13</td>\n",
       "      <td>AM</td>\n",
       "      <td>Los Angeles</td>\n",
       "      <td>CA</td>\n",
       "      <td>90001</td>\n",
       "      <td>8</td>\n",
       "      <td>3</td>\n",
       "    </tr>\n",
       "  </tbody>\n",
       "</table>\n",
       "<p>30244 rows × 12 columns</p>\n",
       "</div>"
      ],
      "text/plain": [
       "                          Product  Quantity Ordered     Price Month  Day  \\\n",
       "0            USB-C Charging Cable                 2  3.214868    04   19   \n",
       "1      Bose SoundSport Headphones                 1  4.615022    04    7   \n",
       "2                    Google Phone                 1  6.398595    04   12   \n",
       "3                Wired Headphones                 1  2.564180    04   12   \n",
       "4                Wired Headphones                 1  2.564180    04   30   \n",
       "...                           ...               ...       ...   ...  ...   \n",
       "30239  Bose SoundSport Headphones                 1  4.615022    08   29   \n",
       "30240      AAA Batteries (4-pack)                 3  2.299581    08   31   \n",
       "30241       AA Batteries (4-pack)                 1  1.576915    08    2   \n",
       "30242        USB-C Charging Cable                 1  2.561096    08    8   \n",
       "30243       AA Batteries (4-pack)                 1  1.576915    08   16   \n",
       "\n",
       "        Time AM/PM           City State Zip Code  ProductID  LocationID  \n",
       "0      08:46    AM         Dallas    TX    75001          1           1  \n",
       "1      22:30    PM         Boston    MA    02215          2           2  \n",
       "2      14:38    PM    Los Angeles    CA    90001          3           3  \n",
       "3      14:38    PM    Los Angeles    CA    90001          4           3  \n",
       "4      09:27    AM    Los Angeles    CA    90001          4           3  \n",
       "...      ...   ...            ...   ...      ...        ...         ...  \n",
       "30239  22:19    PM  San Francisco    CA    94016          2           4  \n",
       "30240  16:26    PM         Boston    MA    02215         10           2  \n",
       "30241  07:25    AM        Seattle    WA    98101          8           5  \n",
       "30242  12:10    PM  San Francisco    CA    94016          1           4  \n",
       "30243  08:13    AM    Los Angeles    CA    90001          8           3  \n",
       "\n",
       "[30244 rows x 12 columns]"
      ]
     },
     "execution_count": 785,
     "metadata": {},
     "output_type": "execute_result"
    }
   ],
   "source": [
    "df2"
   ]
  },
  {
   "cell_type": "code",
   "execution_count": 786,
   "metadata": {},
   "outputs": [
    {
     "data": {
      "text/html": [
       "<div>\n",
       "<style scoped>\n",
       "    .dataframe tbody tr th:only-of-type {\n",
       "        vertical-align: middle;\n",
       "    }\n",
       "\n",
       "    .dataframe tbody tr th {\n",
       "        vertical-align: top;\n",
       "    }\n",
       "\n",
       "    .dataframe thead th {\n",
       "        text-align: right;\n",
       "    }\n",
       "</style>\n",
       "<table border=\"1\" class=\"dataframe\">\n",
       "  <thead>\n",
       "    <tr style=\"text-align: right;\">\n",
       "      <th></th>\n",
       "      <th>Product</th>\n",
       "      <th>Quantity Ordered</th>\n",
       "      <th>Price</th>\n",
       "      <th>Month</th>\n",
       "      <th>Day</th>\n",
       "      <th>Time</th>\n",
       "      <th>AM/PM</th>\n",
       "      <th>City</th>\n",
       "      <th>State</th>\n",
       "      <th>Zip Code</th>\n",
       "      <th>ProductID</th>\n",
       "      <th>LocationID</th>\n",
       "    </tr>\n",
       "  </thead>\n",
       "  <tbody>\n",
       "    <tr>\n",
       "      <th>0</th>\n",
       "      <td>USB-C Charging Cable</td>\n",
       "      <td>2</td>\n",
       "      <td>3.214868</td>\n",
       "      <td>04</td>\n",
       "      <td>19</td>\n",
       "      <td>08:46</td>\n",
       "      <td>AM</td>\n",
       "      <td>Dallas</td>\n",
       "      <td>TX</td>\n",
       "      <td>75001</td>\n",
       "      <td>1</td>\n",
       "      <td>1</td>\n",
       "    </tr>\n",
       "    <tr>\n",
       "      <th>1</th>\n",
       "      <td>Bose SoundSport Headphones</td>\n",
       "      <td>1</td>\n",
       "      <td>4.615022</td>\n",
       "      <td>04</td>\n",
       "      <td>7</td>\n",
       "      <td>22:30</td>\n",
       "      <td>PM</td>\n",
       "      <td>Boston</td>\n",
       "      <td>MA</td>\n",
       "      <td>02215</td>\n",
       "      <td>2</td>\n",
       "      <td>2</td>\n",
       "    </tr>\n",
       "    <tr>\n",
       "      <th>2</th>\n",
       "      <td>Google Phone</td>\n",
       "      <td>1</td>\n",
       "      <td>6.398595</td>\n",
       "      <td>04</td>\n",
       "      <td>12</td>\n",
       "      <td>14:38</td>\n",
       "      <td>PM</td>\n",
       "      <td>Los Angeles</td>\n",
       "      <td>CA</td>\n",
       "      <td>90001</td>\n",
       "      <td>3</td>\n",
       "      <td>3</td>\n",
       "    </tr>\n",
       "    <tr>\n",
       "      <th>3</th>\n",
       "      <td>Wired Headphones</td>\n",
       "      <td>1</td>\n",
       "      <td>2.564180</td>\n",
       "      <td>04</td>\n",
       "      <td>12</td>\n",
       "      <td>14:38</td>\n",
       "      <td>PM</td>\n",
       "      <td>Los Angeles</td>\n",
       "      <td>CA</td>\n",
       "      <td>90001</td>\n",
       "      <td>4</td>\n",
       "      <td>3</td>\n",
       "    </tr>\n",
       "    <tr>\n",
       "      <th>4</th>\n",
       "      <td>Wired Headphones</td>\n",
       "      <td>1</td>\n",
       "      <td>2.564180</td>\n",
       "      <td>04</td>\n",
       "      <td>30</td>\n",
       "      <td>09:27</td>\n",
       "      <td>AM</td>\n",
       "      <td>Los Angeles</td>\n",
       "      <td>CA</td>\n",
       "      <td>90001</td>\n",
       "      <td>4</td>\n",
       "      <td>3</td>\n",
       "    </tr>\n",
       "    <tr>\n",
       "      <th>...</th>\n",
       "      <td>...</td>\n",
       "      <td>...</td>\n",
       "      <td>...</td>\n",
       "      <td>...</td>\n",
       "      <td>...</td>\n",
       "      <td>...</td>\n",
       "      <td>...</td>\n",
       "      <td>...</td>\n",
       "      <td>...</td>\n",
       "      <td>...</td>\n",
       "      <td>...</td>\n",
       "      <td>...</td>\n",
       "    </tr>\n",
       "    <tr>\n",
       "      <th>30239</th>\n",
       "      <td>Bose SoundSport Headphones</td>\n",
       "      <td>1</td>\n",
       "      <td>4.615022</td>\n",
       "      <td>08</td>\n",
       "      <td>29</td>\n",
       "      <td>22:19</td>\n",
       "      <td>PM</td>\n",
       "      <td>San Francisco</td>\n",
       "      <td>CA</td>\n",
       "      <td>94016</td>\n",
       "      <td>2</td>\n",
       "      <td>4</td>\n",
       "    </tr>\n",
       "    <tr>\n",
       "      <th>30240</th>\n",
       "      <td>AAA Batteries (4-pack)</td>\n",
       "      <td>3</td>\n",
       "      <td>2.299581</td>\n",
       "      <td>08</td>\n",
       "      <td>31</td>\n",
       "      <td>16:26</td>\n",
       "      <td>PM</td>\n",
       "      <td>Boston</td>\n",
       "      <td>MA</td>\n",
       "      <td>02215</td>\n",
       "      <td>10</td>\n",
       "      <td>2</td>\n",
       "    </tr>\n",
       "    <tr>\n",
       "      <th>30241</th>\n",
       "      <td>AA Batteries (4-pack)</td>\n",
       "      <td>1</td>\n",
       "      <td>1.576915</td>\n",
       "      <td>08</td>\n",
       "      <td>2</td>\n",
       "      <td>07:25</td>\n",
       "      <td>AM</td>\n",
       "      <td>Seattle</td>\n",
       "      <td>WA</td>\n",
       "      <td>98101</td>\n",
       "      <td>8</td>\n",
       "      <td>5</td>\n",
       "    </tr>\n",
       "    <tr>\n",
       "      <th>30242</th>\n",
       "      <td>USB-C Charging Cable</td>\n",
       "      <td>1</td>\n",
       "      <td>2.561096</td>\n",
       "      <td>08</td>\n",
       "      <td>8</td>\n",
       "      <td>12:10</td>\n",
       "      <td>PM</td>\n",
       "      <td>San Francisco</td>\n",
       "      <td>CA</td>\n",
       "      <td>94016</td>\n",
       "      <td>1</td>\n",
       "      <td>4</td>\n",
       "    </tr>\n",
       "    <tr>\n",
       "      <th>30243</th>\n",
       "      <td>AA Batteries (4-pack)</td>\n",
       "      <td>1</td>\n",
       "      <td>1.576915</td>\n",
       "      <td>08</td>\n",
       "      <td>16</td>\n",
       "      <td>08:13</td>\n",
       "      <td>AM</td>\n",
       "      <td>Los Angeles</td>\n",
       "      <td>CA</td>\n",
       "      <td>90001</td>\n",
       "      <td>8</td>\n",
       "      <td>3</td>\n",
       "    </tr>\n",
       "  </tbody>\n",
       "</table>\n",
       "<p>30244 rows × 12 columns</p>\n",
       "</div>"
      ],
      "text/plain": [
       "                          Product  Quantity Ordered     Price Month  Day  \\\n",
       "0            USB-C Charging Cable                 2  3.214868    04   19   \n",
       "1      Bose SoundSport Headphones                 1  4.615022    04    7   \n",
       "2                    Google Phone                 1  6.398595    04   12   \n",
       "3                Wired Headphones                 1  2.564180    04   12   \n",
       "4                Wired Headphones                 1  2.564180    04   30   \n",
       "...                           ...               ...       ...   ...  ...   \n",
       "30239  Bose SoundSport Headphones                 1  4.615022    08   29   \n",
       "30240      AAA Batteries (4-pack)                 3  2.299581    08   31   \n",
       "30241       AA Batteries (4-pack)                 1  1.576915    08    2   \n",
       "30242        USB-C Charging Cable                 1  2.561096    08    8   \n",
       "30243       AA Batteries (4-pack)                 1  1.576915    08   16   \n",
       "\n",
       "        Time AM/PM           City State Zip Code  ProductID  LocationID  \n",
       "0      08:46    AM         Dallas    TX    75001          1           1  \n",
       "1      22:30    PM         Boston    MA    02215          2           2  \n",
       "2      14:38    PM    Los Angeles    CA    90001          3           3  \n",
       "3      14:38    PM    Los Angeles    CA    90001          4           3  \n",
       "4      09:27    AM    Los Angeles    CA    90001          4           3  \n",
       "...      ...   ...            ...   ...      ...        ...         ...  \n",
       "30239  22:19    PM  San Francisco    CA    94016          2           4  \n",
       "30240  16:26    PM         Boston    MA    02215         10           2  \n",
       "30241  07:25    AM        Seattle    WA    98101          8           5  \n",
       "30242  12:10    PM  San Francisco    CA    94016          1           4  \n",
       "30243  08:13    AM    Los Angeles    CA    90001          8           3  \n",
       "\n",
       "[30244 rows x 12 columns]"
      ]
     },
     "execution_count": 786,
     "metadata": {},
     "output_type": "execute_result"
    }
   ],
   "source": [
    "df2"
   ]
  },
  {
   "cell_type": "code",
   "execution_count": 787,
   "metadata": {},
   "outputs": [
    {
     "data": {
      "text/html": [
       "<div>\n",
       "<style scoped>\n",
       "    .dataframe tbody tr th:only-of-type {\n",
       "        vertical-align: middle;\n",
       "    }\n",
       "\n",
       "    .dataframe tbody tr th {\n",
       "        vertical-align: top;\n",
       "    }\n",
       "\n",
       "    .dataframe thead th {\n",
       "        text-align: right;\n",
       "    }\n",
       "</style>\n",
       "<table border=\"1\" class=\"dataframe\">\n",
       "  <thead>\n",
       "    <tr style=\"text-align: right;\">\n",
       "      <th></th>\n",
       "      <th>Product</th>\n",
       "      <th>ProductID</th>\n",
       "    </tr>\n",
       "  </thead>\n",
       "  <tbody>\n",
       "    <tr>\n",
       "      <th>0</th>\n",
       "      <td>USB-C Charging Cable</td>\n",
       "      <td>1</td>\n",
       "    </tr>\n",
       "    <tr>\n",
       "      <th>1</th>\n",
       "      <td>Bose SoundSport Headphones</td>\n",
       "      <td>2</td>\n",
       "    </tr>\n",
       "    <tr>\n",
       "      <th>2</th>\n",
       "      <td>Google Phone</td>\n",
       "      <td>3</td>\n",
       "    </tr>\n",
       "    <tr>\n",
       "      <th>3</th>\n",
       "      <td>Wired Headphones</td>\n",
       "      <td>4</td>\n",
       "    </tr>\n",
       "    <tr>\n",
       "      <th>4</th>\n",
       "      <td>Macbook Pro Laptop</td>\n",
       "      <td>5</td>\n",
       "    </tr>\n",
       "    <tr>\n",
       "      <th>5</th>\n",
       "      <td>Lightning Charging Cable</td>\n",
       "      <td>6</td>\n",
       "    </tr>\n",
       "    <tr>\n",
       "      <th>6</th>\n",
       "      <td>27in 4K Gaming Monitor</td>\n",
       "      <td>7</td>\n",
       "    </tr>\n",
       "    <tr>\n",
       "      <th>7</th>\n",
       "      <td>AA Batteries (4-pack)</td>\n",
       "      <td>8</td>\n",
       "    </tr>\n",
       "    <tr>\n",
       "      <th>8</th>\n",
       "      <td>Apple Airpods Headphones</td>\n",
       "      <td>9</td>\n",
       "    </tr>\n",
       "    <tr>\n",
       "      <th>9</th>\n",
       "      <td>AAA Batteries (4-pack)</td>\n",
       "      <td>10</td>\n",
       "    </tr>\n",
       "    <tr>\n",
       "      <th>10</th>\n",
       "      <td>iPhone</td>\n",
       "      <td>11</td>\n",
       "    </tr>\n",
       "    <tr>\n",
       "      <th>11</th>\n",
       "      <td>Flatscreen TV</td>\n",
       "      <td>12</td>\n",
       "    </tr>\n",
       "    <tr>\n",
       "      <th>12</th>\n",
       "      <td>27in FHD Monitor</td>\n",
       "      <td>13</td>\n",
       "    </tr>\n",
       "    <tr>\n",
       "      <th>13</th>\n",
       "      <td>20in Monitor</td>\n",
       "      <td>14</td>\n",
       "    </tr>\n",
       "    <tr>\n",
       "      <th>14</th>\n",
       "      <td>LG Dryer</td>\n",
       "      <td>15</td>\n",
       "    </tr>\n",
       "    <tr>\n",
       "      <th>15</th>\n",
       "      <td>ThinkPad Laptop</td>\n",
       "      <td>16</td>\n",
       "    </tr>\n",
       "    <tr>\n",
       "      <th>16</th>\n",
       "      <td>Vareebadd Phone</td>\n",
       "      <td>17</td>\n",
       "    </tr>\n",
       "    <tr>\n",
       "      <th>17</th>\n",
       "      <td>LG Washing Machine</td>\n",
       "      <td>18</td>\n",
       "    </tr>\n",
       "    <tr>\n",
       "      <th>18</th>\n",
       "      <td>34in Ultrawide Monitor</td>\n",
       "      <td>19</td>\n",
       "    </tr>\n",
       "  </tbody>\n",
       "</table>\n",
       "</div>"
      ],
      "text/plain": [
       "                       Product  ProductID\n",
       "0         USB-C Charging Cable          1\n",
       "1   Bose SoundSport Headphones          2\n",
       "2                 Google Phone          3\n",
       "3             Wired Headphones          4\n",
       "4           Macbook Pro Laptop          5\n",
       "5     Lightning Charging Cable          6\n",
       "6       27in 4K Gaming Monitor          7\n",
       "7        AA Batteries (4-pack)          8\n",
       "8     Apple Airpods Headphones          9\n",
       "9       AAA Batteries (4-pack)         10\n",
       "10                      iPhone         11\n",
       "11               Flatscreen TV         12\n",
       "12            27in FHD Monitor         13\n",
       "13                20in Monitor         14\n",
       "14                    LG Dryer         15\n",
       "15             ThinkPad Laptop         16\n",
       "16             Vareebadd Phone         17\n",
       "17          LG Washing Machine         18\n",
       "18      34in Ultrawide Monitor         19"
      ]
     },
     "execution_count": 787,
     "metadata": {},
     "output_type": "execute_result"
    }
   ],
   "source": [
    "products_df\n",
    "\n"
   ]
  },
  {
   "cell_type": "code",
   "execution_count": null,
   "metadata": {},
   "outputs": [],
   "source": []
  },
  {
   "cell_type": "code",
   "execution_count": 788,
   "metadata": {},
   "outputs": [
    {
     "data": {
      "text/plain": [
       "' import mysql.connector\\nproducts_df = df2[[\\'Product\\', \\'ProductID\\']].drop_duplicates().reset_index(drop=True)\\nlocations_df = df2[[\\'City\\', \\'State\\', \\'Zip Code\\', \\'LocationID\\']].drop_duplicates().reset_index(drop=True)\\n\\nconfig = {\\n    \\'user\\': \\'root\\',\\n    \\'password\\': \\'A123a321df@\\',\\n    \\'host\\': \\'127.0.0.1\\',\\n    \\'database\\': \\'my_database\\',\\n    \\'raise_on_warnings\\': True\\n}\\nconn = mysql.connector.connect(**config)\\ncursor = conn.cursor()\\n\\n\\nfor _, row in products_df.iterrows():\\n    cursor.execute(\\n        \"INSERT INTO Products (ProductID, ProductName) VALUES (%s, %s)\",\\n        (row[\\'ProductID\\'], row[\\'Product\\'])\\n    )\\n\\nfor _, row in locations_df.iterrows():\\n    cursor.execute(\\n        \"INSERT INTO Locations (LocationID, City, State, ZipCode) VALUES (%s, %s, %s, %s)\",\\n        (row[\\'LocationID\\'], row[\\'City\\'], row[\\'State\\'], row[\\'Zip Code\\'])\\n    )\\n\\n\\norders_df = df2[[\\'Quantity Ordered\\', \\'Price\\', \\'Month\\', \\'Day\\', \\'Time\\', \\'AM/PM\\', \\'ProductID\\', \\'LocationID\\']]\\norders_df[\\'Price\\'] = orders_df[\\'Price\\'].astype(float).round(2)\\norders_df[\\'Quantity Ordered\\'] = orders_df[\\'Quantity Ordered\\'].astype(int)\\n\\nprint(orders_df.head())\\nprint(orders_df.dtypes)\\n\\n\\nfor _, row in orders_df.iterrows():\\n    cursor.execute(\\n        \"INSERT INTO Orders (QuantityOrdered, Price, Month, Day, Time, AM_PM, ProductID, LocationID) VALUES (%s, %s, %s, %s, %s, %s, %s, %s)\",\\n        (row[\\'Quantity Ordered\\'], row[\\'Price\\'], row[\\'Month\\'], row[\\'Day\\'], row[\\'Time\\'], row[\\'AM/PM\\'], row[\\'ProductID\\'], row[\\'LocationID\\'])\\n    )\\n\\nconn.commit()\\n\\ncursor.close()\\nconn.close()\\n\\nprint(\"Data inserted successfully\") '"
      ]
     },
     "execution_count": 788,
     "metadata": {},
     "output_type": "execute_result"
    }
   ],
   "source": [
    "\"\"\" import mysql.connector\n",
    "products_df = df2[['Product', 'ProductID']].drop_duplicates().reset_index(drop=True)\n",
    "locations_df = df2[['City', 'State', 'Zip Code', 'LocationID']].drop_duplicates().reset_index(drop=True)\n",
    "\n",
    "config = {\n",
    "    'user': 'root',\n",
    "    'password': 'A123a321df@',\n",
    "    'host': '127.0.0.1',\n",
    "    'database': 'my_database',\n",
    "    'raise_on_warnings': True\n",
    "}\n",
    "conn = mysql.connector.connect(**config)\n",
    "cursor = conn.cursor()\n",
    "\n",
    "\n",
    "for _, row in products_df.iterrows():\n",
    "    cursor.execute(\n",
    "        \"INSERT INTO Products (ProductID, ProductName) VALUES (%s, %s)\",\n",
    "        (row['ProductID'], row['Product'])\n",
    "    )\n",
    "\n",
    "for _, row in locations_df.iterrows():\n",
    "    cursor.execute(\n",
    "        \"INSERT INTO Locations (LocationID, City, State, ZipCode) VALUES (%s, %s, %s, %s)\",\n",
    "        (row['LocationID'], row['City'], row['State'], row['Zip Code'])\n",
    "    )\n",
    "\n",
    "\n",
    "orders_df = df2[['Quantity Ordered', 'Price', 'Month', 'Day', 'Time', 'AM/PM', 'ProductID', 'LocationID']]\n",
    "orders_df['Price'] = orders_df['Price'].astype(float).round(2)\n",
    "orders_df['Quantity Ordered'] = orders_df['Quantity Ordered'].astype(int)\n",
    "\n",
    "print(orders_df.head())\n",
    "print(orders_df.dtypes)\n",
    "\n",
    "\n",
    "for _, row in orders_df.iterrows():\n",
    "    cursor.execute(\n",
    "        \"INSERT INTO Orders (QuantityOrdered, Price, Month, Day, Time, AM_PM, ProductID, LocationID) VALUES (%s, %s, %s, %s, %s, %s, %s, %s)\",\n",
    "        (row['Quantity Ordered'], row['Price'], row['Month'], row['Day'], row['Time'], row['AM/PM'], row['ProductID'], row['LocationID'])\n",
    "    )\n",
    "\n",
    "conn.commit()\n",
    "\n",
    "cursor.close()\n",
    "conn.close()\n",
    "\n",
    "print(\"Data inserted successfully\") \"\"\""
   ]
  },
  {
   "cell_type": "code",
   "execution_count": null,
   "metadata": {},
   "outputs": [],
   "source": []
  },
  {
   "cell_type": "code",
   "execution_count": 789,
   "metadata": {},
   "outputs": [],
   "source": [
    "from sklearn.preprocessing import StandardScaler, OneHotEncoder\n",
    "from sklearn.compose import ColumnTransformer\n"
   ]
  },
  {
   "cell_type": "code",
   "execution_count": 790,
   "metadata": {},
   "outputs": [
    {
     "data": {
      "text/plain": [
       "Quantity Ordered\n",
       "1    27405\n",
       "2     2182\n",
       "3      472\n",
       "4      128\n",
       "5       40\n",
       "6       11\n",
       "7        5\n",
       "8        1\n",
       "Name: count, dtype: int64"
      ]
     },
     "execution_count": 790,
     "metadata": {},
     "output_type": "execute_result"
    }
   ],
   "source": [
    "df[\"Quantity Ordered\"].value_counts()"
   ]
  },
  {
   "cell_type": "code",
   "execution_count": 791,
   "metadata": {},
   "outputs": [
    {
     "data": {
      "text/html": [
       "<div>\n",
       "<style scoped>\n",
       "    .dataframe tbody tr th:only-of-type {\n",
       "        vertical-align: middle;\n",
       "    }\n",
       "\n",
       "    .dataframe tbody tr th {\n",
       "        vertical-align: top;\n",
       "    }\n",
       "\n",
       "    .dataframe thead th {\n",
       "        text-align: right;\n",
       "    }\n",
       "</style>\n",
       "<table border=\"1\" class=\"dataframe\">\n",
       "  <thead>\n",
       "    <tr style=\"text-align: right;\">\n",
       "      <th></th>\n",
       "      <th>Price</th>\n",
       "      <th>Quantity Ordered</th>\n",
       "    </tr>\n",
       "  </thead>\n",
       "  <tbody>\n",
       "    <tr>\n",
       "      <th>Price</th>\n",
       "      <td>1.000000</td>\n",
       "      <td>-0.183307</td>\n",
       "    </tr>\n",
       "    <tr>\n",
       "      <th>Quantity Ordered</th>\n",
       "      <td>-0.183307</td>\n",
       "      <td>1.000000</td>\n",
       "    </tr>\n",
       "  </tbody>\n",
       "</table>\n",
       "</div>"
      ],
      "text/plain": [
       "                     Price  Quantity Ordered\n",
       "Price             1.000000         -0.183307\n",
       "Quantity Ordered -0.183307          1.000000"
      ]
     },
     "execution_count": 791,
     "metadata": {},
     "output_type": "execute_result"
    }
   ],
   "source": [
    "df[[\"Price\", \"Quantity Ordered\"]].corr()"
   ]
  },
  {
   "cell_type": "code",
   "execution_count": 792,
   "metadata": {},
   "outputs": [],
   "source": [
    "df['Quantity Ordered'] = np.log1p(df['Quantity Ordered']) \n"
   ]
  },
  {
   "cell_type": "code",
   "execution_count": 793,
   "metadata": {},
   "outputs": [
    {
     "data": {
      "text/html": [
       "<div>\n",
       "<style scoped>\n",
       "    .dataframe tbody tr th:only-of-type {\n",
       "        vertical-align: middle;\n",
       "    }\n",
       "\n",
       "    .dataframe tbody tr th {\n",
       "        vertical-align: top;\n",
       "    }\n",
       "\n",
       "    .dataframe thead th {\n",
       "        text-align: right;\n",
       "    }\n",
       "</style>\n",
       "<table border=\"1\" class=\"dataframe\">\n",
       "  <thead>\n",
       "    <tr style=\"text-align: right;\">\n",
       "      <th></th>\n",
       "      <th>Product</th>\n",
       "      <th>Quantity Ordered</th>\n",
       "      <th>Price</th>\n",
       "      <th>Month</th>\n",
       "      <th>Day</th>\n",
       "      <th>Time</th>\n",
       "      <th>AM/PM</th>\n",
       "      <th>City</th>\n",
       "      <th>State</th>\n",
       "      <th>Zip Code</th>\n",
       "    </tr>\n",
       "  </thead>\n",
       "  <tbody>\n",
       "    <tr>\n",
       "      <th>0</th>\n",
       "      <td>USB-C Charging Cable</td>\n",
       "      <td>1.098612</td>\n",
       "      <td>3.214868</td>\n",
       "      <td>04</td>\n",
       "      <td>19</td>\n",
       "      <td>08:46</td>\n",
       "      <td>AM</td>\n",
       "      <td>Dallas</td>\n",
       "      <td>TX</td>\n",
       "      <td>75001</td>\n",
       "    </tr>\n",
       "    <tr>\n",
       "      <th>2</th>\n",
       "      <td>Bose SoundSport Headphones</td>\n",
       "      <td>0.693147</td>\n",
       "      <td>4.615022</td>\n",
       "      <td>04</td>\n",
       "      <td>7</td>\n",
       "      <td>22:30</td>\n",
       "      <td>PM</td>\n",
       "      <td>Boston</td>\n",
       "      <td>MA</td>\n",
       "      <td>02215</td>\n",
       "    </tr>\n",
       "    <tr>\n",
       "      <th>3</th>\n",
       "      <td>Google Phone</td>\n",
       "      <td>0.693147</td>\n",
       "      <td>6.398595</td>\n",
       "      <td>04</td>\n",
       "      <td>12</td>\n",
       "      <td>14:38</td>\n",
       "      <td>PM</td>\n",
       "      <td>Los Angeles</td>\n",
       "      <td>CA</td>\n",
       "      <td>90001</td>\n",
       "    </tr>\n",
       "    <tr>\n",
       "      <th>4</th>\n",
       "      <td>Wired Headphones</td>\n",
       "      <td>0.693147</td>\n",
       "      <td>2.564180</td>\n",
       "      <td>04</td>\n",
       "      <td>12</td>\n",
       "      <td>14:38</td>\n",
       "      <td>PM</td>\n",
       "      <td>Los Angeles</td>\n",
       "      <td>CA</td>\n",
       "      <td>90001</td>\n",
       "    </tr>\n",
       "    <tr>\n",
       "      <th>5</th>\n",
       "      <td>Wired Headphones</td>\n",
       "      <td>0.693147</td>\n",
       "      <td>2.564180</td>\n",
       "      <td>04</td>\n",
       "      <td>30</td>\n",
       "      <td>09:27</td>\n",
       "      <td>AM</td>\n",
       "      <td>Los Angeles</td>\n",
       "      <td>CA</td>\n",
       "      <td>90001</td>\n",
       "    </tr>\n",
       "    <tr>\n",
       "      <th>...</th>\n",
       "      <td>...</td>\n",
       "      <td>...</td>\n",
       "      <td>...</td>\n",
       "      <td>...</td>\n",
       "      <td>...</td>\n",
       "      <td>...</td>\n",
       "      <td>...</td>\n",
       "      <td>...</td>\n",
       "      <td>...</td>\n",
       "      <td>...</td>\n",
       "    </tr>\n",
       "    <tr>\n",
       "      <th>30389</th>\n",
       "      <td>Bose SoundSport Headphones</td>\n",
       "      <td>0.693147</td>\n",
       "      <td>4.615022</td>\n",
       "      <td>08</td>\n",
       "      <td>29</td>\n",
       "      <td>22:19</td>\n",
       "      <td>PM</td>\n",
       "      <td>San Francisco</td>\n",
       "      <td>CA</td>\n",
       "      <td>94016</td>\n",
       "    </tr>\n",
       "    <tr>\n",
       "      <th>30390</th>\n",
       "      <td>AAA Batteries (4-pack)</td>\n",
       "      <td>1.386294</td>\n",
       "      <td>2.299581</td>\n",
       "      <td>08</td>\n",
       "      <td>31</td>\n",
       "      <td>16:26</td>\n",
       "      <td>PM</td>\n",
       "      <td>Boston</td>\n",
       "      <td>MA</td>\n",
       "      <td>02215</td>\n",
       "    </tr>\n",
       "    <tr>\n",
       "      <th>30391</th>\n",
       "      <td>AA Batteries (4-pack)</td>\n",
       "      <td>0.693147</td>\n",
       "      <td>1.576915</td>\n",
       "      <td>08</td>\n",
       "      <td>2</td>\n",
       "      <td>07:25</td>\n",
       "      <td>AM</td>\n",
       "      <td>Seattle</td>\n",
       "      <td>WA</td>\n",
       "      <td>98101</td>\n",
       "    </tr>\n",
       "    <tr>\n",
       "      <th>30392</th>\n",
       "      <td>USB-C Charging Cable</td>\n",
       "      <td>0.693147</td>\n",
       "      <td>2.561096</td>\n",
       "      <td>08</td>\n",
       "      <td>8</td>\n",
       "      <td>12:10</td>\n",
       "      <td>PM</td>\n",
       "      <td>San Francisco</td>\n",
       "      <td>CA</td>\n",
       "      <td>94016</td>\n",
       "    </tr>\n",
       "    <tr>\n",
       "      <th>30393</th>\n",
       "      <td>AA Batteries (4-pack)</td>\n",
       "      <td>0.693147</td>\n",
       "      <td>1.576915</td>\n",
       "      <td>08</td>\n",
       "      <td>16</td>\n",
       "      <td>08:13</td>\n",
       "      <td>AM</td>\n",
       "      <td>Los Angeles</td>\n",
       "      <td>CA</td>\n",
       "      <td>90001</td>\n",
       "    </tr>\n",
       "  </tbody>\n",
       "</table>\n",
       "<p>30244 rows × 10 columns</p>\n",
       "</div>"
      ],
      "text/plain": [
       "                          Product  Quantity Ordered     Price Month  Day  \\\n",
       "0            USB-C Charging Cable          1.098612  3.214868    04   19   \n",
       "2      Bose SoundSport Headphones          0.693147  4.615022    04    7   \n",
       "3                    Google Phone          0.693147  6.398595    04   12   \n",
       "4                Wired Headphones          0.693147  2.564180    04   12   \n",
       "5                Wired Headphones          0.693147  2.564180    04   30   \n",
       "...                           ...               ...       ...   ...  ...   \n",
       "30389  Bose SoundSport Headphones          0.693147  4.615022    08   29   \n",
       "30390      AAA Batteries (4-pack)          1.386294  2.299581    08   31   \n",
       "30391       AA Batteries (4-pack)          0.693147  1.576915    08    2   \n",
       "30392        USB-C Charging Cable          0.693147  2.561096    08    8   \n",
       "30393       AA Batteries (4-pack)          0.693147  1.576915    08   16   \n",
       "\n",
       "        Time AM/PM           City State Zip Code  \n",
       "0      08:46    AM         Dallas    TX    75001  \n",
       "2      22:30    PM         Boston    MA    02215  \n",
       "3      14:38    PM    Los Angeles    CA    90001  \n",
       "4      14:38    PM    Los Angeles    CA    90001  \n",
       "5      09:27    AM    Los Angeles    CA    90001  \n",
       "...      ...   ...            ...   ...      ...  \n",
       "30389  22:19    PM  San Francisco    CA    94016  \n",
       "30390  16:26    PM         Boston    MA    02215  \n",
       "30391  07:25    AM        Seattle    WA    98101  \n",
       "30392  12:10    PM  San Francisco    CA    94016  \n",
       "30393  08:13    AM    Los Angeles    CA    90001  \n",
       "\n",
       "[30244 rows x 10 columns]"
      ]
     },
     "execution_count": 793,
     "metadata": {},
     "output_type": "execute_result"
    }
   ],
   "source": [
    "df"
   ]
  },
  {
   "cell_type": "code",
   "execution_count": 794,
   "metadata": {},
   "outputs": [],
   "source": [
    "df = pd.get_dummies(df, columns=['Product'], prefix='Product')\n"
   ]
  },
  {
   "cell_type": "code",
   "execution_count": 795,
   "metadata": {},
   "outputs": [],
   "source": [
    "df = pd.get_dummies(df, columns=['Month'], prefix='Month')\n"
   ]
  },
  {
   "cell_type": "code",
   "execution_count": 796,
   "metadata": {},
   "outputs": [],
   "source": [
    "df['Hour'] = df['Time'].apply(lambda x: int(x.split(':')[0]) + (12 if x.endswith('PM') and x.split(':')[0] != '12' else 0))\n"
   ]
  },
  {
   "cell_type": "code",
   "execution_count": 797,
   "metadata": {},
   "outputs": [],
   "source": [
    "df = pd.get_dummies(df, columns=['AM/PM'], prefix='AM_PM')\n"
   ]
  },
  {
   "cell_type": "code",
   "execution_count": 798,
   "metadata": {},
   "outputs": [],
   "source": [
    "df = df.drop(\"Time\" , axis= 1 )\n"
   ]
  },
  {
   "cell_type": "code",
   "execution_count": 799,
   "metadata": {},
   "outputs": [],
   "source": [
    "df = df.drop(\"Zip Code\" , axis= 1 )\n"
   ]
  },
  {
   "cell_type": "code",
   "execution_count": 800,
   "metadata": {},
   "outputs": [],
   "source": [
    "df = df.drop(\"State\" , axis= 1 )\n"
   ]
  },
  {
   "cell_type": "code",
   "execution_count": 801,
   "metadata": {},
   "outputs": [],
   "source": [
    "df['Day_sin'] = np.sin(2 * np.pi * df['Day']/31)\n",
    "df['Day_cos'] = np.cos(2 * np.pi * df['Day']/31)"
   ]
  },
  {
   "cell_type": "code",
   "execution_count": 802,
   "metadata": {},
   "outputs": [],
   "source": [
    "df = pd.get_dummies(df, columns=['City'], prefix='City')\n"
   ]
  },
  {
   "cell_type": "code",
   "execution_count": 803,
   "metadata": {},
   "outputs": [
    {
     "data": {
      "text/plain": [
       "Index(['Quantity Ordered', 'Price', 'Day', 'Product_20in Monitor',\n",
       "       'Product_27in 4K Gaming Monitor', 'Product_27in FHD Monitor',\n",
       "       'Product_34in Ultrawide Monitor', 'Product_AA Batteries (4-pack)',\n",
       "       'Product_AAA Batteries (4-pack)', 'Product_Apple Airpods Headphones',\n",
       "       'Product_Bose SoundSport Headphones', 'Product_Flatscreen TV',\n",
       "       'Product_Google Phone', 'Product_LG Dryer',\n",
       "       'Product_LG Washing Machine', 'Product_Lightning Charging Cable',\n",
       "       'Product_Macbook Pro Laptop', 'Product_ThinkPad Laptop',\n",
       "       'Product_USB-C Charging Cable', 'Product_Vareebadd Phone',\n",
       "       'Product_Wired Headphones', 'Product_iPhone', 'Month_04', 'Month_05',\n",
       "       'Month_08', 'Month_09', 'Hour', 'AM_PM_AM', 'AM_PM_PM', 'Day_sin',\n",
       "       'Day_cos', 'City_Atlanta', 'City_Austin', 'City_Boston', 'City_Dallas',\n",
       "       'City_Los Angeles', 'City_New York City', 'City_Portland',\n",
       "       'City_San Francisco', 'City_Seattle'],\n",
       "      dtype='object')"
      ]
     },
     "execution_count": 803,
     "metadata": {},
     "output_type": "execute_result"
    }
   ],
   "source": [
    "df.columns"
   ]
  },
  {
   "cell_type": "code",
   "execution_count": 804,
   "metadata": {},
   "outputs": [
    {
     "data": {
      "text/html": [
       "<div>\n",
       "<style scoped>\n",
       "    .dataframe tbody tr th:only-of-type {\n",
       "        vertical-align: middle;\n",
       "    }\n",
       "\n",
       "    .dataframe tbody tr th {\n",
       "        vertical-align: top;\n",
       "    }\n",
       "\n",
       "    .dataframe thead th {\n",
       "        text-align: right;\n",
       "    }\n",
       "</style>\n",
       "<table border=\"1\" class=\"dataframe\">\n",
       "  <thead>\n",
       "    <tr style=\"text-align: right;\">\n",
       "      <th></th>\n",
       "      <th>Quantity Ordered</th>\n",
       "      <th>Price</th>\n",
       "      <th>Day</th>\n",
       "      <th>Product_20in Monitor</th>\n",
       "      <th>Product_27in 4K Gaming Monitor</th>\n",
       "      <th>Product_27in FHD Monitor</th>\n",
       "      <th>Product_34in Ultrawide Monitor</th>\n",
       "      <th>Product_AA Batteries (4-pack)</th>\n",
       "      <th>Product_AAA Batteries (4-pack)</th>\n",
       "      <th>Product_Apple Airpods Headphones</th>\n",
       "      <th>...</th>\n",
       "      <th>Day_cos</th>\n",
       "      <th>City_Atlanta</th>\n",
       "      <th>City_Austin</th>\n",
       "      <th>City_Boston</th>\n",
       "      <th>City_Dallas</th>\n",
       "      <th>City_Los Angeles</th>\n",
       "      <th>City_New York City</th>\n",
       "      <th>City_Portland</th>\n",
       "      <th>City_San Francisco</th>\n",
       "      <th>City_Seattle</th>\n",
       "    </tr>\n",
       "  </thead>\n",
       "  <tbody>\n",
       "    <tr>\n",
       "      <th>0</th>\n",
       "      <td>1.098612</td>\n",
       "      <td>3.214868</td>\n",
       "      <td>19</td>\n",
       "      <td>False</td>\n",
       "      <td>False</td>\n",
       "      <td>False</td>\n",
       "      <td>False</td>\n",
       "      <td>False</td>\n",
       "      <td>False</td>\n",
       "      <td>False</td>\n",
       "      <td>...</td>\n",
       "      <td>-0.758758</td>\n",
       "      <td>False</td>\n",
       "      <td>False</td>\n",
       "      <td>False</td>\n",
       "      <td>True</td>\n",
       "      <td>False</td>\n",
       "      <td>False</td>\n",
       "      <td>False</td>\n",
       "      <td>False</td>\n",
       "      <td>False</td>\n",
       "    </tr>\n",
       "    <tr>\n",
       "      <th>2</th>\n",
       "      <td>0.693147</td>\n",
       "      <td>4.615022</td>\n",
       "      <td>7</td>\n",
       "      <td>False</td>\n",
       "      <td>False</td>\n",
       "      <td>False</td>\n",
       "      <td>False</td>\n",
       "      <td>False</td>\n",
       "      <td>False</td>\n",
       "      <td>False</td>\n",
       "      <td>...</td>\n",
       "      <td>0.151428</td>\n",
       "      <td>False</td>\n",
       "      <td>False</td>\n",
       "      <td>True</td>\n",
       "      <td>False</td>\n",
       "      <td>False</td>\n",
       "      <td>False</td>\n",
       "      <td>False</td>\n",
       "      <td>False</td>\n",
       "      <td>False</td>\n",
       "    </tr>\n",
       "    <tr>\n",
       "      <th>3</th>\n",
       "      <td>0.693147</td>\n",
       "      <td>6.398595</td>\n",
       "      <td>12</td>\n",
       "      <td>False</td>\n",
       "      <td>False</td>\n",
       "      <td>False</td>\n",
       "      <td>False</td>\n",
       "      <td>False</td>\n",
       "      <td>False</td>\n",
       "      <td>False</td>\n",
       "      <td>...</td>\n",
       "      <td>-0.758758</td>\n",
       "      <td>False</td>\n",
       "      <td>False</td>\n",
       "      <td>False</td>\n",
       "      <td>False</td>\n",
       "      <td>True</td>\n",
       "      <td>False</td>\n",
       "      <td>False</td>\n",
       "      <td>False</td>\n",
       "      <td>False</td>\n",
       "    </tr>\n",
       "    <tr>\n",
       "      <th>4</th>\n",
       "      <td>0.693147</td>\n",
       "      <td>2.564180</td>\n",
       "      <td>12</td>\n",
       "      <td>False</td>\n",
       "      <td>False</td>\n",
       "      <td>False</td>\n",
       "      <td>False</td>\n",
       "      <td>False</td>\n",
       "      <td>False</td>\n",
       "      <td>False</td>\n",
       "      <td>...</td>\n",
       "      <td>-0.758758</td>\n",
       "      <td>False</td>\n",
       "      <td>False</td>\n",
       "      <td>False</td>\n",
       "      <td>False</td>\n",
       "      <td>True</td>\n",
       "      <td>False</td>\n",
       "      <td>False</td>\n",
       "      <td>False</td>\n",
       "      <td>False</td>\n",
       "    </tr>\n",
       "    <tr>\n",
       "      <th>5</th>\n",
       "      <td>0.693147</td>\n",
       "      <td>2.564180</td>\n",
       "      <td>30</td>\n",
       "      <td>False</td>\n",
       "      <td>False</td>\n",
       "      <td>False</td>\n",
       "      <td>False</td>\n",
       "      <td>False</td>\n",
       "      <td>False</td>\n",
       "      <td>False</td>\n",
       "      <td>...</td>\n",
       "      <td>0.979530</td>\n",
       "      <td>False</td>\n",
       "      <td>False</td>\n",
       "      <td>False</td>\n",
       "      <td>False</td>\n",
       "      <td>True</td>\n",
       "      <td>False</td>\n",
       "      <td>False</td>\n",
       "      <td>False</td>\n",
       "      <td>False</td>\n",
       "    </tr>\n",
       "    <tr>\n",
       "      <th>...</th>\n",
       "      <td>...</td>\n",
       "      <td>...</td>\n",
       "      <td>...</td>\n",
       "      <td>...</td>\n",
       "      <td>...</td>\n",
       "      <td>...</td>\n",
       "      <td>...</td>\n",
       "      <td>...</td>\n",
       "      <td>...</td>\n",
       "      <td>...</td>\n",
       "      <td>...</td>\n",
       "      <td>...</td>\n",
       "      <td>...</td>\n",
       "      <td>...</td>\n",
       "      <td>...</td>\n",
       "      <td>...</td>\n",
       "      <td>...</td>\n",
       "      <td>...</td>\n",
       "      <td>...</td>\n",
       "      <td>...</td>\n",
       "      <td>...</td>\n",
       "    </tr>\n",
       "    <tr>\n",
       "      <th>30389</th>\n",
       "      <td>0.693147</td>\n",
       "      <td>4.615022</td>\n",
       "      <td>29</td>\n",
       "      <td>False</td>\n",
       "      <td>False</td>\n",
       "      <td>False</td>\n",
       "      <td>False</td>\n",
       "      <td>False</td>\n",
       "      <td>False</td>\n",
       "      <td>False</td>\n",
       "      <td>...</td>\n",
       "      <td>0.918958</td>\n",
       "      <td>False</td>\n",
       "      <td>False</td>\n",
       "      <td>False</td>\n",
       "      <td>False</td>\n",
       "      <td>False</td>\n",
       "      <td>False</td>\n",
       "      <td>False</td>\n",
       "      <td>True</td>\n",
       "      <td>False</td>\n",
       "    </tr>\n",
       "    <tr>\n",
       "      <th>30390</th>\n",
       "      <td>1.386294</td>\n",
       "      <td>2.299581</td>\n",
       "      <td>31</td>\n",
       "      <td>False</td>\n",
       "      <td>False</td>\n",
       "      <td>False</td>\n",
       "      <td>False</td>\n",
       "      <td>False</td>\n",
       "      <td>True</td>\n",
       "      <td>False</td>\n",
       "      <td>...</td>\n",
       "      <td>1.000000</td>\n",
       "      <td>False</td>\n",
       "      <td>False</td>\n",
       "      <td>True</td>\n",
       "      <td>False</td>\n",
       "      <td>False</td>\n",
       "      <td>False</td>\n",
       "      <td>False</td>\n",
       "      <td>False</td>\n",
       "      <td>False</td>\n",
       "    </tr>\n",
       "    <tr>\n",
       "      <th>30391</th>\n",
       "      <td>0.693147</td>\n",
       "      <td>1.576915</td>\n",
       "      <td>2</td>\n",
       "      <td>False</td>\n",
       "      <td>False</td>\n",
       "      <td>False</td>\n",
       "      <td>False</td>\n",
       "      <td>True</td>\n",
       "      <td>False</td>\n",
       "      <td>False</td>\n",
       "      <td>...</td>\n",
       "      <td>0.918958</td>\n",
       "      <td>False</td>\n",
       "      <td>False</td>\n",
       "      <td>False</td>\n",
       "      <td>False</td>\n",
       "      <td>False</td>\n",
       "      <td>False</td>\n",
       "      <td>False</td>\n",
       "      <td>False</td>\n",
       "      <td>True</td>\n",
       "    </tr>\n",
       "    <tr>\n",
       "      <th>30392</th>\n",
       "      <td>0.693147</td>\n",
       "      <td>2.561096</td>\n",
       "      <td>8</td>\n",
       "      <td>False</td>\n",
       "      <td>False</td>\n",
       "      <td>False</td>\n",
       "      <td>False</td>\n",
       "      <td>False</td>\n",
       "      <td>False</td>\n",
       "      <td>False</td>\n",
       "      <td>...</td>\n",
       "      <td>-0.050649</td>\n",
       "      <td>False</td>\n",
       "      <td>False</td>\n",
       "      <td>False</td>\n",
       "      <td>False</td>\n",
       "      <td>False</td>\n",
       "      <td>False</td>\n",
       "      <td>False</td>\n",
       "      <td>True</td>\n",
       "      <td>False</td>\n",
       "    </tr>\n",
       "    <tr>\n",
       "      <th>30393</th>\n",
       "      <td>0.693147</td>\n",
       "      <td>1.576915</td>\n",
       "      <td>16</td>\n",
       "      <td>False</td>\n",
       "      <td>False</td>\n",
       "      <td>False</td>\n",
       "      <td>False</td>\n",
       "      <td>True</td>\n",
       "      <td>False</td>\n",
       "      <td>False</td>\n",
       "      <td>...</td>\n",
       "      <td>-0.994869</td>\n",
       "      <td>False</td>\n",
       "      <td>False</td>\n",
       "      <td>False</td>\n",
       "      <td>False</td>\n",
       "      <td>True</td>\n",
       "      <td>False</td>\n",
       "      <td>False</td>\n",
       "      <td>False</td>\n",
       "      <td>False</td>\n",
       "    </tr>\n",
       "  </tbody>\n",
       "</table>\n",
       "<p>30244 rows × 40 columns</p>\n",
       "</div>"
      ],
      "text/plain": [
       "       Quantity Ordered     Price  Day  Product_20in Monitor  \\\n",
       "0              1.098612  3.214868   19                 False   \n",
       "2              0.693147  4.615022    7                 False   \n",
       "3              0.693147  6.398595   12                 False   \n",
       "4              0.693147  2.564180   12                 False   \n",
       "5              0.693147  2.564180   30                 False   \n",
       "...                 ...       ...  ...                   ...   \n",
       "30389          0.693147  4.615022   29                 False   \n",
       "30390          1.386294  2.299581   31                 False   \n",
       "30391          0.693147  1.576915    2                 False   \n",
       "30392          0.693147  2.561096    8                 False   \n",
       "30393          0.693147  1.576915   16                 False   \n",
       "\n",
       "       Product_27in 4K Gaming Monitor  Product_27in FHD Monitor  \\\n",
       "0                               False                     False   \n",
       "2                               False                     False   \n",
       "3                               False                     False   \n",
       "4                               False                     False   \n",
       "5                               False                     False   \n",
       "...                               ...                       ...   \n",
       "30389                           False                     False   \n",
       "30390                           False                     False   \n",
       "30391                           False                     False   \n",
       "30392                           False                     False   \n",
       "30393                           False                     False   \n",
       "\n",
       "       Product_34in Ultrawide Monitor  Product_AA Batteries (4-pack)  \\\n",
       "0                               False                          False   \n",
       "2                               False                          False   \n",
       "3                               False                          False   \n",
       "4                               False                          False   \n",
       "5                               False                          False   \n",
       "...                               ...                            ...   \n",
       "30389                           False                          False   \n",
       "30390                           False                          False   \n",
       "30391                           False                           True   \n",
       "30392                           False                          False   \n",
       "30393                           False                           True   \n",
       "\n",
       "       Product_AAA Batteries (4-pack)  Product_Apple Airpods Headphones  ...  \\\n",
       "0                               False                             False  ...   \n",
       "2                               False                             False  ...   \n",
       "3                               False                             False  ...   \n",
       "4                               False                             False  ...   \n",
       "5                               False                             False  ...   \n",
       "...                               ...                               ...  ...   \n",
       "30389                           False                             False  ...   \n",
       "30390                            True                             False  ...   \n",
       "30391                           False                             False  ...   \n",
       "30392                           False                             False  ...   \n",
       "30393                           False                             False  ...   \n",
       "\n",
       "        Day_cos  City_Atlanta  City_Austin  City_Boston  City_Dallas  \\\n",
       "0     -0.758758         False        False        False         True   \n",
       "2      0.151428         False        False         True        False   \n",
       "3     -0.758758         False        False        False        False   \n",
       "4     -0.758758         False        False        False        False   \n",
       "5      0.979530         False        False        False        False   \n",
       "...         ...           ...          ...          ...          ...   \n",
       "30389  0.918958         False        False        False        False   \n",
       "30390  1.000000         False        False         True        False   \n",
       "30391  0.918958         False        False        False        False   \n",
       "30392 -0.050649         False        False        False        False   \n",
       "30393 -0.994869         False        False        False        False   \n",
       "\n",
       "       City_Los Angeles  City_New York City  City_Portland  \\\n",
       "0                 False               False          False   \n",
       "2                 False               False          False   \n",
       "3                  True               False          False   \n",
       "4                  True               False          False   \n",
       "5                  True               False          False   \n",
       "...                 ...                 ...            ...   \n",
       "30389             False               False          False   \n",
       "30390             False               False          False   \n",
       "30391             False               False          False   \n",
       "30392             False               False          False   \n",
       "30393              True               False          False   \n",
       "\n",
       "       City_San Francisco  City_Seattle  \n",
       "0                   False         False  \n",
       "2                   False         False  \n",
       "3                   False         False  \n",
       "4                   False         False  \n",
       "5                   False         False  \n",
       "...                   ...           ...  \n",
       "30389                True         False  \n",
       "30390               False         False  \n",
       "30391               False          True  \n",
       "30392                True         False  \n",
       "30393               False         False  \n",
       "\n",
       "[30244 rows x 40 columns]"
      ]
     },
     "execution_count": 804,
     "metadata": {},
     "output_type": "execute_result"
    }
   ],
   "source": [
    "df"
   ]
  },
  {
   "cell_type": "code",
   "execution_count": 805,
   "metadata": {},
   "outputs": [],
   "source": [
    "cols = df.columns.drop(\"Price\")\n",
    "df[cols]= df[cols].astype(int)"
   ]
  },
  {
   "cell_type": "code",
   "execution_count": null,
   "metadata": {},
   "outputs": [],
   "source": []
  },
  {
   "cell_type": "code",
   "execution_count": 806,
   "metadata": {},
   "outputs": [],
   "source": [
    "df['Price'] = np.log1p(df['Price']) \n"
   ]
  },
  {
   "cell_type": "code",
   "execution_count": 807,
   "metadata": {},
   "outputs": [],
   "source": [
    "X = df.drop(columns=['Price'])  # Features\n",
    "y = df['Price'] "
   ]
  },
  {
   "cell_type": "code",
   "execution_count": null,
   "metadata": {},
   "outputs": [],
   "source": []
  },
  {
   "cell_type": "code",
   "execution_count": 808,
   "metadata": {},
   "outputs": [],
   "source": [
    "noise_factor = 0.083\n",
    "X= X + noise_factor * np.random.normal(size=X.shape)"
   ]
  },
  {
   "cell_type": "code",
   "execution_count": 809,
   "metadata": {},
   "outputs": [],
   "source": [
    "from sklearn.model_selection import train_test_split\n",
    "\n",
    "X_train, X_test, y_train, y_test = train_test_split(X, y, test_size=0.2, random_state=42)"
   ]
  },
  {
   "cell_type": "code",
   "execution_count": null,
   "metadata": {},
   "outputs": [],
   "source": []
  },
  {
   "cell_type": "code",
   "execution_count": 810,
   "metadata": {},
   "outputs": [
    {
     "name": "stdout",
     "output_type": "stream",
     "text": [
      "Mean Squared Error: 0.016331325635062496\n",
      "R-squared: 0.8892941094034049\n"
     ]
    }
   ],
   "source": [
    "from sklearn.linear_model import LinearRegression\n",
    "from sklearn.metrics import mean_squared_error, r2_score\n",
    "\n",
    "model = LinearRegression()\n",
    "model.fit(X_train, y_train)\n",
    "\n",
    "y_pred = model.predict(X_test)\n",
    "\n",
    "mse = mean_squared_error(y_test, y_pred)\n",
    "r2 = r2_score(y_test, y_pred)\n",
    "\n",
    "print(f'Mean Squared Error: {mse}')\n",
    "print(f'R-squared: {r2}')"
   ]
  },
  {
   "cell_type": "code",
   "execution_count": null,
   "metadata": {},
   "outputs": [],
   "source": []
  },
  {
   "cell_type": "code",
   "execution_count": 811,
   "metadata": {},
   "outputs": [
    {
     "name": "stdout",
     "output_type": "stream",
     "text": [
      "Cross-Validation R-squared scores: [0.88987945 0.89149613 0.88928668 0.89479145 0.89005702]\n",
      "Mean Cross-Validation R-squared: 0.8911021441299303\n"
     ]
    }
   ],
   "source": [
    "from sklearn.model_selection import cross_val_score\n",
    "\n",
    "cv_scores = cross_val_score(model, X, y, cv=5, scoring='r2')\n",
    "print(f'Cross-Validation R-squared scores: {cv_scores}')\n",
    "print(f'Mean Cross-Validation R-squared: {cv_scores.mean()}')"
   ]
  },
  {
   "cell_type": "code",
   "execution_count": null,
   "metadata": {},
   "outputs": [],
   "source": []
  },
  {
   "cell_type": "code",
   "execution_count": null,
   "metadata": {},
   "outputs": [],
   "source": []
  },
  {
   "cell_type": "markdown",
   "metadata": {},
   "source": [
    "### Decide what transformation to do on Price\n",
    "### Encode & Transform\n",
    "### Linear Reg (try to get best accurasy)"
   ]
  },
  {
   "cell_type": "markdown",
   "metadata": {},
   "source": []
  },
  {
   "cell_type": "markdown",
   "metadata": {},
   "source": [
    "### Clustering"
   ]
  },
  {
   "cell_type": "code",
   "execution_count": 812,
   "metadata": {},
   "outputs": [
    {
     "ename": "SyntaxError",
     "evalue": "invalid syntax (476313318.py, line 1)",
     "output_type": "error",
     "traceback": [
      "\u001b[1;36m  Cell \u001b[1;32mIn[812], line 1\u001b[1;36m\u001b[0m\n\u001b[1;33m    -\u001b[0m\n\u001b[1;37m     ^\u001b[0m\n\u001b[1;31mSyntaxError\u001b[0m\u001b[1;31m:\u001b[0m invalid syntax\n"
     ]
    }
   ],
   "source": [
    "-"
   ]
  },
  {
   "cell_type": "code",
   "execution_count": null,
   "metadata": {},
   "outputs": [],
   "source": [
    "from sklearn.cluster import KMeans\n",
    "from sklearn.preprocessing import StandardScaler\n",
    "\n",
    "X = df[['Price Each', 'Quantity Ordered']]\n",
    "\n",
    "# Standardize the features\n",
    "scaler = StandardScaler()\n",
    "X_scaled = scaler.fit_transform(X)"
   ]
  },
  {
   "cell_type": "code",
   "execution_count": null,
   "metadata": {},
   "outputs": [
    {
     "data": {
      "image/png": "[encoded data removed]",
      "text/plain": [
       "<Figure size 1000x600 with 1 Axes>"
      ]
     },
     "metadata": {},
     "output_type": "display_data"
    }
   ],
   "source": [
    "wcss = []  \n",
    "\n",
    "for i in range(1, 11):\n",
    "    kmeans = KMeans(n_clusters=i, init='k-means++', max_iter=300, n_init=10, random_state=42)\n",
    "    kmeans.fit(X_scaled)\n",
    "    wcss.append(kmeans.inertia_)\n",
    "\n",
    "plt.figure(figsize=(10, 6))\n",
    "plt.plot(range(1, 11), wcss, marker='o')\n",
    "plt.title('Elbow Method to Determine Optimal Number of Clusters')\n",
    "plt.xlabel('Number of Clusters')\n",
    "plt.ylabel('WCSS')\n",
    "plt.show()"
   ]
  },
  {
   "cell_type": "markdown",
   "metadata": {},
   "source": [
    "### The sharp decrease happens at around 3 so i iwll chose k=3"
   ]
  },
  {
   "cell_type": "code",
   "execution_count": null,
   "metadata": {},
   "outputs": [
    {
     "data": {
      "image/png": "[encoded data removed]",
      "text/plain": [
       "<Figure size 1000x600 with 1 Axes>"
      ]
     },
     "metadata": {},
     "output_type": "display_data"
    }
   ],
   "source": [
    "optimal_clusters = 3\n",
    "kmeans = KMeans(n_clusters=optimal_clusters, init='k-means++', max_iter=300, n_init=10, random_state=42)\n",
    "df['Cluster'] = kmeans.fit_predict(X_scaled)\n",
    "\n",
    "# Visualize the clusters\n",
    "plt.figure(figsize=(10, 6))\n",
    "plt.scatter(X_scaled[:, 0], X_scaled[:, 1], c=df['Cluster'], cmap='viridis', marker='o')\n",
    "plt.title('Product Clusters')\n",
    "plt.xlabel('Standardized Price Each')\n",
    "plt.ylabel('Standardized Quantity Ordered')\n",
    "plt.show()"
   ]
  },
  {
   "cell_type": "markdown",
   "metadata": {},
   "source": [
    "### It can be seen that the price and quntity cluster the data very well to three clusters (low, med, high)prices. \n",
    "### <span style=\"color: yellow;\"> Yellow </span>: Low-Priced and Low-Quantity Product\n",
    "### <span style=\"color: purple;\"> Purple </span>: Mixed-Price and High-Quantity Productss\n",
    "\n",
    "### <span style=\"color: Green;\"> Green </span>: High-Priced and Low-Quantity Products\n"
   ]
  },
  {
   "cell_type": "code",
   "execution_count": null,
   "metadata": {},
   "outputs": [],
   "source": []
  },
  {
   "cell_type": "code",
   "execution_count": null,
   "metadata": {},
   "outputs": [
    {
     "data": {
      "image/png": "[encoded data removed]",
      "text/plain": [
       "<Figure size 1000x600 with 1 Axes>"
      ]
     },
     "metadata": {},
     "output_type": "display_data"
    }
   ],
   "source": [
    "cluster_sales = df.groupby('Cluster')['Price'].sum()\n",
    "\n",
    "# Plot total sales for each cluster\n",
    "plt.figure(figsize=(10, 6))\n",
    "cluster_sales.plot(kind='bar', color=['yellow', 'purple', 'teal'])\n",
    "plt.title('Total Sales by Cluster')\n",
    "plt.xlabel('Cluster')\n",
    "plt.ylabel('Total Sales')\n",
    "plt.show()"
   ]
  },
  {
   "cell_type": "code",
   "execution_count": null,
   "metadata": {},
   "outputs": [
    {
     "name": "stderr",
     "output_type": "stream",
     "text": [
      "C:\\Users\\ggfor\\AppData\\Local\\Temp\\ipykernel_16716\\4165379267.py:3: FutureWarning: 'M' is deprecated and will be removed in a future version, please use 'ME' instead.\n",
      "  monthly_sales = df.groupby([pd.Grouper(freq='M'), 'Cluster'])['Price'].sum().unstack()\n"
     ]
    },
    {
     "data": {
      "image/png": "[encoded data removed]",
      "text/plain": [
       "<Figure size 1400x700 with 1 Axes>"
      ]
     },
     "metadata": {},
     "output_type": "display_data"
    }
   ],
   "source": []
  },
  {
   "cell_type": "code",
   "execution_count": null,
   "metadata": {},
   "outputs": [],
   "source": []
  },
  {
   "cell_type": "code",
   "execution_count": null,
   "metadata": {},
   "outputs": [],
   "source": []
  }
 ],
 "metadata": {
  "kernelspec": {
   "display_name": "Python 3",
   "language": "python",
   "name": "python3"
  },
  "language_info": {
   "codemirror_mode": {
    "name": "ipython",
    "version": 3
   },
   "file_extension": ".py",
   "mimetype": "text/x-python",
   "name": "python",
   "nbconvert_exporter": "python",
   "pygments_lexer": "ipython3",
   "version": "3.11.3"
  }
 },
 "nbformat": 4,
 "nbformat_minor": 2
}
